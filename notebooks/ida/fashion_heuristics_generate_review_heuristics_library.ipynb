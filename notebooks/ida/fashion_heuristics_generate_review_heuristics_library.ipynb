{
 "cells": [
  {
   "cell_type": "code",
   "execution_count": null,
   "metadata": {},
   "outputs": [],
   "source": [
    "%cd /Users/idawatibustan/Dev/shopee_data_science\n",
    "%env PROJECT_PATH /Users/idawatibustan/Dev/shopee_data_science"
   ]
  },
  {
   "cell_type": "code",
   "execution_count": null,
   "metadata": {},
   "outputs": [],
   "source": [
    "from utils.envs import *\n",
    "from pprint import pprint\n",
    "import pandas as pd\n",
    "import numpy as np\n",
    "import json\n",
    "\n",
    "pd.set_option('display.max_colwidth', 100)"
   ]
  },
  {
   "cell_type": "code",
   "execution_count": null,
   "metadata": {},
   "outputs": [],
   "source": [
    "fashion_train = pd.read_csv(fashion_train_repo)\n",
    "fashion_val = pd.read_csv(fashion_val_repo)\n",
    "fashion_train.head()"
   ]
  },
  {
   "cell_type": "code",
   "execution_count": null,
   "metadata": {},
   "outputs": [],
   "source": [
    "fashion_profile = json.load(open(fashion_profile_json))\n",
    "fashion_profile.keys()"
   ]
  },
  {
   "cell_type": "code",
   "execution_count": null,
   "metadata": {},
   "outputs": [],
   "source": [
    "from functools import reduce\n",
    "\n",
    "fashion_max_length = {}\n",
    "for feature, library in fashion_profile.items():\n",
    "    lengths = [len(x.split()) for x in library.keys()]\n",
    "    fashion_max_length[feature] = max(lengths)\n",
    "fashion_max_length"
   ]
  },
  {
   "cell_type": "code",
   "execution_count": null,
   "metadata": {},
   "outputs": [],
   "source": []
  },
  {
   "cell_type": "markdown",
   "metadata": {},
   "source": [
    "## Building Libraries of Secondary/ Tertiary Comparison "
   ]
  },
  {
   "cell_type": "code",
   "execution_count": null,
   "metadata": {},
   "outputs": [],
   "source": [
    "fashion_profile_secondary={}"
   ]
  },
  {
   "cell_type": "markdown",
   "metadata": {},
   "source": [
    "### Pattern"
   ]
  },
  {
   "cell_type": "code",
   "execution_count": null,
   "metadata": {},
   "outputs": [],
   "source": [
    "feature = 'Pattern'\n",
    "lib = {}\n",
    "\n",
    "val = fashion_profile[feature].get('plain')\n",
    "print(val)\n",
    "lib['polos'] = val\n",
    "\n",
    "val = fashion_profile[feature].get('brocade')\n",
    "print(val)\n",
    "lib['brokat'] = val\n",
    "\n",
    "fashion_profile_secondary[feature] = lib"
   ]
  },
  {
   "cell_type": "markdown",
   "metadata": {},
   "source": [
    "### Collar Type"
   ]
  },
  {
   "cell_type": "code",
   "execution_count": null,
   "metadata": {},
   "outputs": [],
   "source": [
    "feature = 'Collar Type'\n",
    "lib = {}\n",
    "\n",
    "val = fashion_profile[feature].get('off the shoulder')\n",
    "print(val)\n",
    "fashion_profile[feature].update({'off shoulder': val})\n",
    "lib['off bahu'] = val\n",
    "lib['tanpa bahu'] = val\n",
    "# lib['slash neck'] = val\n",
    "# lib['cold shoulder'] = val\n",
    "\n",
    "val = fashion_profile[feature].get('o neck')\n",
    "print(val)\n",
    "lib['leher o'] = val\n",
    "lib['kerah o'] = val\n",
    "lib['crew neck'] = val\n",
    "lib['round neck'] = val\n",
    "\n",
    "val = fashion_profile[feature].get('v neck')\n",
    "print(val)\n",
    "lib['leher v'] = val\n",
    "lib['kerah v'] = val\n",
    "lib['tops v'] = val\n",
    "lib['neck v'] = val\n",
    "lib['v collar'] = val\n",
    "lib['deep v'] = val\n",
    "\n",
    "val = fashion_profile[feature].get('square neck')\n",
    "print(val)\n",
    "lib['square'] = val\n",
    "\n",
    "val = fashion_profile[feature].get('hooded')\n",
    "print(val)\n",
    "lib['hoodie'] = val\n",
    "lib['hoodies'] = val\n",
    "\n",
    "val = fashion_profile[feature].get('shawl collar')\n",
    "print(val)\n",
    "lib['syal'] = val\n",
    "lib['scarf'] = val\n",
    "lib['shawl'] = val\n",
    "\n",
    "fashion_profile_secondary[feature] = lib"
   ]
  },
  {
   "cell_type": "markdown",
   "metadata": {},
   "source": [
    "### Fashion Trend"
   ]
  },
  {
   "cell_type": "code",
   "execution_count": null,
   "metadata": {},
   "outputs": [],
   "source": [
    "feature = 'Fashion Trend'\n",
    "lib = {}\n",
    "\n",
    "val = fashion_profile[feature].get('party')\n",
    "print(val)\n",
    "fashion_profile[feature].update({'pesta': val})\n",
    "\n",
    "val = fashion_profile[feature].get('retro vintage')\n",
    "print(val)\n",
    "lib['retro'] = val\n",
    "fashion_profile[feature].update({'vintage': val})\n",
    "# lib['vintage'] = val\n",
    "\n",
    "val = fashion_profile[feature].get('korean')\n",
    "print(val)\n",
    "# lib['korea'] = val\n",
    "\n",
    "val = fashion_profile[feature].get('office')\n",
    "print(val)\n",
    "lib['kantor'] = val\n",
    "\n",
    "\n",
    "fashion_profile_secondary[feature] = lib"
   ]
  },
  {
   "cell_type": "markdown",
   "metadata": {},
   "source": [
    "### Clothing Material"
   ]
  },
  {
   "cell_type": "code",
   "execution_count": null,
   "metadata": {},
   "outputs": [],
   "source": [
    "feature = 'Clothing Material'\n",
    "lib = {}\n",
    "\n",
    "val = fashion_profile[feature].get('cotton')\n",
    "print(val)\n",
    "# lib['katun'] = val\n",
    "\n",
    "val = fashion_profile[feature].get('chiffon')\n",
    "print(val)\n",
    "lib['sifon'] = val\n",
    "\n",
    "\n",
    "fashion_profile_secondary[feature] = lib"
   ]
  },
  {
   "cell_type": "markdown",
   "metadata": {},
   "source": [
    "### Sleeves"
   ]
  },
  {
   "cell_type": "code",
   "execution_count": null,
   "metadata": {},
   "outputs": [],
   "source": [
    "feature = 'Sleeves'\n",
    "lib = {}\n",
    "\n",
    "val = fashion_profile[feature].get('long sleeve')\n",
    "print(val)\n",
    "fashion_profile[feature].update({'lengan panjang': val})\n",
    "# lib['lengan panjang'] = val\n",
    "\n",
    "\n",
    "val = fashion_profile[feature].get('short sleeve')\n",
    "print(val)\n",
    "fashion_profile[feature].update({'lengan pendek': val})\n",
    "# lib['lengan pendek'] = val\n",
    "\n",
    "val = fashion_profile[feature].get('sleeveless')\n",
    "print(val)\n",
    "fashion_profile[feature].update({'tanpa lengan': val})\n",
    "# lib['tanpa lengan'] = val\n",
    "lib['tali strap'] = val\n",
    "\n",
    "val = fashion_profile[feature].get('sleeve 3 4')\n",
    "print(val)\n",
    "fashion_profile[feature].update({'lengan 3 4': val})\n",
    "# lib['lengan flare 3 4'] = val\n",
    "lib['3 4'] = val\n",
    "\n",
    "\n",
    "fashion_profile_secondary[feature] = lib"
   ]
  },
  {
   "cell_type": "markdown",
   "metadata": {},
   "source": [
    "## Storing Library"
   ]
  },
  {
   "cell_type": "code",
   "execution_count": null,
   "metadata": {},
   "outputs": [],
   "source": [
    "fashion_library = {\n",
    "    \"primary\": fashion_profile,\n",
    "    \"secondary\": fashion_profile_secondary,\n",
    "    \"length\": fashion_max_length,\n",
    "}\n",
    "with open('data/fashion_library.json', 'w+') as file:\n",
    "    json.dump(fashion_library, file)"
   ]
  },
  {
   "cell_type": "code",
   "execution_count": null,
   "metadata": {},
   "outputs": [],
   "source": []
  },
  {
   "cell_type": "markdown",
   "metadata": {},
   "source": [
    "## heuristic functions"
   ]
  },
  {
   "cell_type": "code",
   "execution_count": null,
   "metadata": {},
   "outputs": [],
   "source": [
    "\"\"\" heuristic function :) \"\"\"\n",
    "def _word_compare(texts_lib, library):\n",
    "    for text in texts_lib:\n",
    "        value = library.get(text, None)\n",
    "        if not value is None:\n",
    "            return value\n",
    "\n",
    "def word_compare(title, libraries, level=4):\n",
    "    texts = title.split()\n",
    "    texts_lib = texts\n",
    "    texts_temp = texts\n",
    "    for i in range(1, level):\n",
    "        texts_temp = list(zip(texts_temp, texts[i:]))\n",
    "        texts_temp = [' '.join(text) for text in texts_temp]\n",
    "        texts_lib += texts_temp\n",
    "\n",
    "    if isinstance(libraries, list):\n",
    "        for lib in libraries:\n",
    "            value = _word_compare(texts_lib, lib)\n",
    "            if not value is None:\n",
    "                return value\n",
    "        return None\n",
    "    else:\n",
    "        return _word_compare(texts_lib, libraries)\n",
    "\n",
    "    \n",
    "def get_feature(title, library, level=3):\n",
    "    res = word_compare(\n",
    "        title,\n",
    "        libraries=library,\n",
    "        level=level\n",
    "    )\n",
    "    return res\n"
   ]
  },
  {
   "cell_type": "code",
   "execution_count": null,
   "metadata": {},
   "outputs": [],
   "source": []
  },
  {
   "cell_type": "code",
   "execution_count": null,
   "metadata": {},
   "outputs": [],
   "source": [
    "\"\"\" get text details of all the features\"\"\"\n",
    "fashion_lib = {}\n",
    "\n",
    "for feature in fashion_profile.keys():\n",
    "    key_to_text = {v: k for k, v in fashion_profile.get(feature).items()}\n",
    "    fashion_lib[feature] = key_to_text\n",
    "    fashion_train[feature+'_info'] = fashion_train[feature].map(key_to_text)\n"
   ]
  },
  {
   "cell_type": "markdown",
   "metadata": {},
   "source": [
    "## Run heuristic function "
   ]
  },
  {
   "cell_type": "code",
   "execution_count": null,
   "metadata": {
    "scrolled": true
   },
   "outputs": [],
   "source": [
    "\"\"\" run single lib heuristic \"\"\"\n",
    "from datetime import datetime\n",
    "start_time = datetime.now()\n",
    "\n",
    "fashion_pred = fashion_train.filter(['itemid', 'title'])\n",
    "for feature in fashion_profile.keys():\n",
    "\n",
    "    libraries = [fashion_profile[feature], fashion_profile_secondary[feature]]\n",
    "    level = fashion_max_length[feature]\n",
    "\n",
    "    fashion_pred[feature] = fashion_train.title.apply(get_feature, args=(libraries,level,))\n",
    "\n",
    "duration = datetime.now() - start_time\n",
    "print(duration)\n",
    "\n",
    "fashion_pred.head()"
   ]
  },
  {
   "cell_type": "code",
   "execution_count": null,
   "metadata": {},
   "outputs": [],
   "source": [
    "\"\"\" single feature prediction\"\"\"\n",
    "start_time = datetime.now()\n",
    "\n",
    "feature = 'Fashion Trend'\n",
    "\n",
    "libraries = [fashion_profile[feature], fashion_profile_secondary[feature]]\n",
    "level = fashion_max_length[feature]\n",
    "\n",
    "fashion_pred[feature] = fashion_train.title.apply(get_feature, args=(libraries,level,))\n",
    "\n",
    "duration = datetime.now() - start_time\n",
    "print(duration)"
   ]
  },
  {
   "cell_type": "markdown",
   "metadata": {},
   "source": [
    "## Review result"
   ]
  },
  {
   "cell_type": "code",
   "execution_count": null,
   "metadata": {},
   "outputs": [],
   "source": [
    "result = {}\n",
    "for feature in fashion_profile.keys():\n",
    "    print(feature)\n",
    "    \"\"\" compare actual brand and prediction on insight DF\"\"\"\n",
    "    insight = fashion_train.filter(['itemid', 'title', feature, feature+'_info'])\n",
    "    insight[feature+'_pred'] = fashion_pred[feature]\n",
    "    insight[feature+'_info_pred'] = fashion_pred[feature].map(fashion_lib[feature])\n",
    "    total = len(insight)\n",
    "\n",
    "    \"\"\" drop brand NA of actual brand\"\"\"\n",
    "    insight = insight.dropna(subset=[feature])\n",
    "    print(\"  DF  ~NaN len:\", len(insight), '({})%'.format(round(len(insight)/total*100)))\n",
    "    # print(insight[feature].eq(insight[feature+'_pred']).value_counts(normalize=True))\n",
    "\n",
    "    insight_accuracy = insight.dropna(subset=[feature, feature+'_pred'])\n",
    "    print(\"  DF known len:\",len(insight_accuracy), '({})%'.format(round(len(insight_accuracy)/len(insight)*100)))\n",
    "    print(insight_accuracy[feature].eq(insight_accuracy[feature+'_pred']).value_counts(normalize=True))\n",
    "\n",
    "#     \"\"\" get unequal insight_error DF\"\"\"\n",
    "#     insight_error = insight.loc[insight[feature] != insight[feature+'_pred'], :]\n",
    "#     insight_error[feature].value_counts()\n",
    "\n",
    "    \"\"\" get unequal insight_error DF\"\"\"\n",
    "    insight_error = insight_accuracy.loc[insight_accuracy[feature] != insight_accuracy[feature+'_pred'], :]\n",
    "    print(insight_error[feature].value_counts())\n",
    "\n",
    "    result[feature] = insight\n",
    "    print()"
   ]
  },
  {
   "cell_type": "code",
   "execution_count": null,
   "metadata": {},
   "outputs": [],
   "source": []
  },
  {
   "cell_type": "code",
   "execution_count": null,
   "metadata": {},
   "outputs": [],
   "source": [
    "\"\"\" view top unknown/ error \"\"\"\n",
    "idx = 3\n",
    "feature = list(fashion_profile.keys())[idx]\n",
    "insight = result[feature]\n",
    "\n",
    "res = insight[feature].eq(insight[feature+'_pred'])\n",
    "wrong_index = res[res == False].index\n",
    "insight_error = insight.loc[wrong_index, :]\n",
    "print(insight_error[feature].value_counts().head())\n",
    "\n",
    "print( fashion_lib[feature].get(7) )\n",
    "print( fashion_lib[feature].get(18) )\n",
    "print( fashion_lib[feature].get(3) )\n",
    "print( fashion_lib[feature].get(4) )\n",
    "print( fashion_lib[feature].get(16) )"
   ]
  },
  {
   "cell_type": "code",
   "execution_count": null,
   "metadata": {
    "scrolled": false
   },
   "outputs": [],
   "source": [
    "\"\"\" view error title for : bkey \"\"\"\n",
    "# feature = 'Pattern'\n",
    "bkey = 3\n",
    "\n",
    "print(fashion_lib[feature].get(bkey))\n",
    "feature_error = insight_error.loc[insight_error[feature] == bkey,:]\n",
    "print(len(feature_error))\n",
    "\n",
    "feature_error.dropna(subset=[feature+'_pred'])\n",
    "\n",
    "# feature_error.loc[feature_error[feature+'_pred'].isna(), :].title\n",
    "\n",
    "# for t in feature_error.loc[feature_error[feature+'_pred'].isna(), :].title:\n",
    "#     print(t)\n",
    "\n",
    "# print(feature_error[feature+'_pred'].value_counts())\n",
    "# print(fashion_lib[feature].get(1))\n",
    "# feature_error.loc[feature_error[feature+'_pred'] == 1, :].title"
   ]
  },
  {
   "cell_type": "code",
   "execution_count": null,
   "metadata": {},
   "outputs": [],
   "source": []
  },
  {
   "cell_type": "markdown",
   "metadata": {},
   "source": [
    "## Run heuristics and export submission"
   ]
  },
  {
   "cell_type": "code",
   "execution_count": null,
   "metadata": {},
   "outputs": [],
   "source": [
    "\"\"\" fashion_val, run all heuristic functions - prediction on separate df \"\"\"\n",
    "from datetime import datetime\n",
    "start_time = datetime.now()\n",
    "\n",
    "fashion_val_pred = fashion_val.filter(['itemid', 'title'])\n",
    "for feature in fashion_profile.keys():\n",
    "    libraries = [fashion_profile[feature], fashion_profile_secondary[feature]]\n",
    "    level = fashion_max_length[feature]\n",
    "\n",
    "    fashion_val_pred[feature] = fashion_val.title.apply(get_feature, args=(libraries,level,))\n",
    "\n",
    "duration = datetime.now() - start_time\n",
    "print(duration)\n",
    "\n",
    "fashion_val_pred"
   ]
  },
  {
   "cell_type": "code",
   "execution_count": null,
   "metadata": {},
   "outputs": [],
   "source": [
    "# format answer\n",
    "fashion_val_submission = pd.DataFrame(columns=['id', 'tagging'])\n",
    "\n",
    "temp = pd.DataFrame()\n",
    "for feature in fashion_profile.keys():\n",
    "    temp['id'] = fashion_val_pred['itemid'].map(str)+\"_\"+feature\n",
    "    temp['tagging'] = fashion_val_pred[feature]\n",
    "    \n",
    "    if len(fashion_val_submission) == 0:\n",
    "        fashion_val_submission = temp\n",
    "    else:\n",
    "        fashion_val_submission = fashion_val_submission.append(temp, ignore_index=True)\n",
    "    print(feature, len(fashion_val_submission))\n",
    "    \n",
    "        \n",
    "# fashion_submission.append(temp, ignore_index=True)\n",
    "fashion_val_submission.head()\n",
    "# fashion_val_submission.info()\n",
    "# temp"
   ]
  },
  {
   "cell_type": "code",
   "execution_count": null,
   "metadata": {},
   "outputs": [],
   "source": [
    "fashion_val_submission.to_csv('fashion_info_val_submission.csv')"
   ]
  },
  {
   "cell_type": "code",
   "execution_count": null,
   "metadata": {},
   "outputs": [],
   "source": []
  }
 ],
 "metadata": {
  "kernelspec": {
   "display_name": "Python 3",
   "language": "python",
   "name": "python3"
  },
  "language_info": {
   "codemirror_mode": {
    "name": "ipython",
    "version": 3
   },
   "file_extension": ".py",
   "mimetype": "text/x-python",
   "name": "python",
   "nbconvert_exporter": "python",
   "pygments_lexer": "ipython3",
   "version": "3.6.4"
  }
 },
 "nbformat": 4,
 "nbformat_minor": 2
}
