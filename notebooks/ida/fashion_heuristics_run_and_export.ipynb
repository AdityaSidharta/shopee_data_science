{
 "cells": [
  {
   "cell_type": "code",
   "execution_count": null,
   "metadata": {
    "scrolled": true
   },
   "outputs": [],
   "source": [
    "%cd /Users/idawatibustan/Dev/shopee_data_science\n",
    "%env PROJECT_PATH /Users/idawatibustan/Dev/shopee_data_science"
   ]
  },
  {
   "cell_type": "code",
   "execution_count": null,
   "metadata": {},
   "outputs": [],
   "source": [
    "from datetime import datetime\n",
    "import os\n",
    "\n",
    "import pandas as pd\n",
    "\n",
    "from model.heuristic.utilities import load_library\n",
    "from model.heuristic.fashion_heuristic import run_fashion_heuristic\n",
    "from utils.envs import *\n"
   ]
  },
  {
   "cell_type": "code",
   "execution_count": null,
   "metadata": {},
   "outputs": [],
   "source": [
    "fashion_val = pd.read_csv(fashion_val_repo)\n",
    "fashion_val.head()"
   ]
  },
  {
   "cell_type": "code",
   "execution_count": null,
   "metadata": {},
   "outputs": [],
   "source": [
    "fashion_library = load_library('model/heuristic/fashion_library_20190316.json')\n",
    "\n",
    "fashion_profile = fashion_library.get('primary')\n",
    "fashion_profile_secondary = fashion_library.get('secondary')\n",
    "fashion_max_length = fashion_library.get('length')"
   ]
  },
  {
   "cell_type": "code",
   "execution_count": null,
   "metadata": {},
   "outputs": [],
   "source": [
    "# run heuristic function + validate accuracy on training data\n",
    "\n",
    "fashion_train = pd.read_csv(fashion_train_repo)\n",
    "\n",
    "start_time = datetime.now()\n",
    "fashion_pred = run_fashion_heuristic(\n",
    "    fashion_train, \n",
    "    fashion_profile,\n",
    "    fashion_profile_secondary,\n",
    "    fashion_max_length\n",
    ")\n",
    "duration = datetime.now() - start_time\n",
    "print(\"duration:\", duration)\n",
    "\n",
    "# accuracy on training data\n",
    "for feature in fashion_profile.keys():\n",
    "    print(feature)\n",
    "    \"\"\" compare actual brand and prediction on insight DF\"\"\"\n",
    "    insight = fashion_train.filter(['itemid', 'title', feature])\n",
    "    insight[feature+'_pred'] = fashion_pred[feature]\n",
    "    total = len(insight)\n",
    "\n",
    "    \"\"\" drop brand NA of actual brand\"\"\"\n",
    "    total_known = len(insight.dropna(subset=[feature]))\n",
    "\n",
    "    insight_accuracy = insight.dropna(subset=[feature, feature+'_pred'])\n",
    "    correct_ans = insight_accuracy[feature].eq(insight_accuracy[feature+'_pred']).sum()\n",
    "    total_ans = insight_accuracy[feature].count()\n",
    "    print(\"  coverage = {:.5f}, accuracy = {:.5f}, \".format(\n",
    "        total_ans/total_known,\n",
    "        correct_ans/ total_ans, \n",
    "    ))\n"
   ]
  },
  {
   "cell_type": "code",
   "execution_count": null,
   "metadata": {},
   "outputs": [],
   "source": [
    "# run heuristic function on submission\n",
    "start_time = datetime.now()\n",
    "\n",
    "fashion_val_pred = run_fashion_heuristic(\n",
    "    fashion_val, \n",
    "    fashion_profile,\n",
    "    fashion_profile_secondary,\n",
    "    fashion_max_length\n",
    ")\n",
    "\n",
    "duration = datetime.now() - start_time\n",
    "print(duration)\n",
    "\n",
    "fashion_val_pred.head()"
   ]
  },
  {
   "cell_type": "code",
   "execution_count": null,
   "metadata": {},
   "outputs": [],
   "source": [
    "# format answer for submission\n",
    "fashion_val_submission = pd.DataFrame(columns=['id', 'tagging'])\n",
    "\n",
    "for feature in fashion_profile.keys():\n",
    "    temp = pd.DataFrame()\n",
    "    temp['id'] = fashion_val_pred['itemid'].map(str)+\"_\"+feature\n",
    "    temp['tagging'] = fashion_val_pred[feature]\n",
    "    \n",
    "    if len(fashion_val_submission) == 0:\n",
    "        fashion_val_submission = temp\n",
    "    else:\n",
    "        fashion_val_submission = fashion_val_submission.append(temp, ignore_index=True)\n",
    "    print(feature, len(fashion_val_submission))\n",
    "\n",
    "fashion_val_submission.info()"
   ]
  },
  {
   "cell_type": "code",
   "execution_count": null,
   "metadata": {},
   "outputs": [],
   "source": [
    "not_nan = fashion_val_submission.tagging.count()\n",
    "total = len(fashion_val_submission)\n",
    "print(\"answered = {} out of {} ({})\". format(not_nan, total, not_nan/ total))\n",
    "\n",
    "fashion_val_submission.head()"
   ]
  },
  {
   "cell_type": "code",
   "execution_count": null,
   "metadata": {},
   "outputs": [],
   "source": [
    "import os\n",
    "\n",
    "outpath = 'output/result'\n",
    "filename = 'fashion_info_val_submission_'+datetime.now().strftime(\"%Y%m%d_%H%M%S\")+'.csv'\n",
    "print(os.path.join(outpath,filename))\n",
    "\n",
    "fashion_val_submission.to_csv(os.path.join(outpath,filename))"
   ]
  }
 ],
 "metadata": {
  "kernelspec": {
   "display_name": "Python 3",
   "language": "python",
   "name": "python3"
  },
  "language_info": {
   "codemirror_mode": {
    "name": "ipython",
    "version": 3
   },
   "file_extension": ".py",
   "mimetype": "text/x-python",
   "name": "python",
   "nbconvert_exporter": "python",
   "pygments_lexer": "ipython3",
   "version": "3.7.1"
  }
 },
 "nbformat": 4,
 "nbformat_minor": 2
}
