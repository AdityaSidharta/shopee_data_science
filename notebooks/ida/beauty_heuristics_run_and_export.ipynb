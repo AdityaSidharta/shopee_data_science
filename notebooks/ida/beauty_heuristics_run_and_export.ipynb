{
 "cells": [
  {
   "cell_type": "code",
   "execution_count": null,
   "metadata": {},
   "outputs": [],
   "source": [
    "%cd /Users/idawatibustan/Dev/shopee_data_science\n",
    "%env PROJECT_PATH /Users/idawatibustan/Dev/shopee_data_science"
   ]
  },
  {
   "cell_type": "code",
   "execution_count": null,
   "metadata": {},
   "outputs": [],
   "source": [
    "from datetime import datetime\n",
    "import os\n",
    "\n",
    "import pandas as pd\n",
    "\n",
    "from model.heuristic.utilities import *\n",
    "from model.heuristic.beauty_heuristic import run_beauty_heuristic\n",
    "from utils.envs import *\n"
   ]
  },
  {
   "cell_type": "code",
   "execution_count": null,
   "metadata": {},
   "outputs": [],
   "source": [
    "beauty_val = pd.read_csv(beauty_val_repo)\n",
    "beauty_val.head()"
   ]
  },
  {
   "cell_type": "code",
   "execution_count": null,
   "metadata": {},
   "outputs": [],
   "source": [
    "beauty_library = load_library('model/heuristic/beauty_library_20190322.json')\n",
    "\n",
    "beauty_profile = beauty_library.get('primary')\n",
    "beauty_profile_secondary = beauty_library.get('secondary')\n",
    "beauty_profile_third = beauty_library.get('third')\n",
    "beauty_max_length = beauty_library.get('length')"
   ]
  },
  {
   "cell_type": "code",
   "execution_count": null,
   "metadata": {},
   "outputs": [],
   "source": [
    "# run heuristic function + validate accuracy on training data\n",
    "\n",
    "beauty_train = pd.read_csv(beauty_train_repo)\n",
    "\n",
    "start_time = datetime.now()\n",
    "beauty_pred = run_beauty_heuristic(\n",
    "    beauty_train, \n",
    "    beauty_profile,\n",
    "    beauty_profile_secondary,\n",
    "    beauty_profile_third,\n",
    "    beauty_max_length\n",
    ")\n",
    "duration = datetime.now() - start_time\n",
    "print(\"duration:\", duration)\n",
    "\n",
    "# accuracy on training data\n",
    "for feature in beauty_profile.keys():\n",
    "    print(feature)\n",
    "    \"\"\" compare actual brand and prediction on insight DF\"\"\"\n",
    "    insight = beauty_train.filter(['itemid', 'title', feature])\n",
    "    insight[feature+'_pred'] = beauty_pred[feature]\n",
    "    total = len(insight)\n",
    "\n",
    "    \"\"\" drop brand NA of actual brand\"\"\"\n",
    "    insight_accuracy = insight.dropna(subset=[feature, feature+'_pred'])\n",
    "    correct_ans = insight_accuracy[feature].eq(insight_accuracy[feature+'_pred']).sum()\n",
    "    total_ans = insight_accuracy[feature].count()\n",
    "    print(\" accuracy =\", correct_ans/ total_ans)\n"
   ]
  },
  {
   "cell_type": "code",
   "execution_count": null,
   "metadata": {},
   "outputs": [],
   "source": [
    "# run heuristic function on submission\n",
    "start_time = datetime.now()\n",
    "\n",
    "beauty_val_pred = run_beauty_heuristic(\n",
    "    beauty_val, \n",
    "    beauty_profile,\n",
    "    beauty_profile_secondary,\n",
    "    beauty_profile_third,\n",
    "    beauty_max_length\n",
    ")\n",
    "\n",
    "duration = datetime.now() - start_time\n",
    "print(duration)\n",
    "\n",
    "beauty_val_pred.head()"
   ]
  },
  {
   "cell_type": "code",
   "execution_count": null,
   "metadata": {},
   "outputs": [],
   "source": [
    "# format answer for submission\n",
    "beauty_val_submission = pd.DataFrame(columns=['id', 'tagging'])\n",
    "\n",
    "for feature in beauty_profile.keys():\n",
    "    temp = pd.DataFrame()\n",
    "    temp['id'] = beauty_val_pred['itemid'].map(str)+\"_\"+feature\n",
    "    temp['tagging'] = beauty_val_pred[feature]\n",
    "    \n",
    "    if len(beauty_val_submission) == 0:\n",
    "        beauty_val_submission = temp\n",
    "    else:\n",
    "        beauty_val_submission = beauty_val_submission.append(temp, ignore_index=True)\n",
    "    print(feature, len(beauty_val_submission))\n",
    "\n",
    "beauty_val_submission.info()"
   ]
  },
  {
   "cell_type": "code",
   "execution_count": null,
   "metadata": {},
   "outputs": [],
   "source": [
    "not_nan = beauty_val_submission.tagging.count()\n",
    "total = len(beauty_val_submission)\n",
    "print(\"answered = {} out of {} ({})\". format(not_nan, total, not_nan/ total))\n",
    "\n",
    "beauty_val_submission.head()"
   ]
  },
  {
   "cell_type": "code",
   "execution_count": null,
   "metadata": {},
   "outputs": [],
   "source": [
    "outpath = 'output/result'\n",
    "filename = 'beauty_info_val_submission_'+datetime.now().strftime(\"%Y%m%d_%H%M%S\")+'.csv'\n",
    "print(os.path.join(outpath,filename))\n",
    "\n",
    "beauty_val_submission.to_csv(os.path.join(outpath,filename))"
   ]
  }
 ],
 "metadata": {
  "kernelspec": {
   "display_name": "Python 3",
   "language": "python",
   "name": "python3"
  },
  "language_info": {
   "codemirror_mode": {
    "name": "ipython",
    "version": 3
   },
   "file_extension": ".py",
   "mimetype": "text/x-python",
   "name": "python",
   "nbconvert_exporter": "python",
   "pygments_lexer": "ipython3",
   "version": "3.7.1"
  }
 },
 "nbformat": 4,
 "nbformat_minor": 2
}
