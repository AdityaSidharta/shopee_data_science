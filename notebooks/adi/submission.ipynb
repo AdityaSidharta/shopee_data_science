{
 "cells": [
  {
   "cell_type": "code",
   "execution_count": null,
   "metadata": {},
   "outputs": [],
   "source": [
    "%cd /home/adityasidharta/git/shopee_data_science\n",
    "%env PROJECT_PATH /home/adityasidharta/git/shopee_data_science"
   ]
  },
  {
   "cell_type": "code",
   "execution_count": null,
   "metadata": {},
   "outputs": [],
   "source": [
    "from sklearn.externals import joblib\n",
    "import pandas as pd\n",
    "from utils.envs import *\n",
    "from model.text.common.prediction import *\n",
    "from utils.common import get_datetime"
   ]
  },
  {
   "cell_type": "code",
   "execution_count": null,
   "metadata": {},
   "outputs": [],
   "source": [
    "beauty_result_path = '/home/adityasidharta/git/shopee_data_science/output/result/lgb_20190303-210106/beauty_result_dict.pkl'\n",
    "fashion_result_path = '/home/adityasidharta/git/shopee_data_science/output/result/lgb_20190303-210106/fashion_result_dict.pkl'\n",
    "mobile_result_path = '/home/adityasidharta/git/shopee_data_science/output/result/lgb_20190303-210106/mobile_result_dict.pkl'"
   ]
  },
  {
   "cell_type": "code",
   "execution_count": null,
   "metadata": {},
   "outputs": [],
   "source": [
    "beauty_result_dict = joblib.load(beauty_result_path)\n",
    "fashion_result_dict = joblib.load(fashion_result_path)\n",
    "mobile_result_dict = joblib.load(mobile_result_path)"
   ]
  },
  {
   "cell_type": "code",
   "execution_count": null,
   "metadata": {},
   "outputs": [],
   "source": [
    "beauty_test_df = pd.read_csv(beauty_test_repo)\n",
    "fashion_test_df = pd.read_csv(fashion_test_repo)\n",
    "mobile_test_df = pd.read_csv(mobile_test_repo)"
   ]
  },
  {
   "cell_type": "code",
   "execution_count": null,
   "metadata": {},
   "outputs": [],
   "source": [
    "prediction_df = build_prediction_list(beauty_test_df, fashion_test_df, mobile_test_df)"
   ]
  },
  {
   "cell_type": "code",
   "execution_count": null,
   "metadata": {},
   "outputs": [],
   "source": [
    "beauty_prediction = predict_threshold(beauty_test_df, beauty_result_dict, 0.6)\n",
    "fashion_prediction = predict_threshold(fashion_test_df, fashion_result_dict, 0.6)\n",
    "mobile_prediction = predict_threshold(mobile_test_df, mobile_result_dict, 0.6)"
   ]
  },
  {
   "cell_type": "code",
   "execution_count": null,
   "metadata": {},
   "outputs": [],
   "source": [
    "final_result_df = concat_submission(beauty_prediction, fashion_prediction, mobile_prediction, beauty_test_df, fashion_test_df, mobile_test_df)"
   ]
  },
  {
   "cell_type": "code",
   "execution_count": null,
   "metadata": {},
   "outputs": [],
   "source": [
    "final_result_df"
   ]
  },
  {
   "cell_type": "code",
   "execution_count": null,
   "metadata": {},
   "outputs": [],
   "source": [
    "final_result_df.to_csv(os.path.join(result_path, 'result_{}.csv'.format(get_datetime())), index=False)"
   ]
  },
  {
   "cell_type": "code",
   "execution_count": null,
   "metadata": {},
   "outputs": [],
   "source": []
  },
  {
   "cell_type": "code",
   "execution_count": null,
   "metadata": {},
   "outputs": [],
   "source": []
  }
 ],
 "metadata": {
  "kernelspec": {
   "display_name": "shopee_data_science",
   "language": "python",
   "name": "shopee_data_science"
  },
  "language_info": {
   "codemirror_mode": {
    "name": "ipython",
    "version": 3
   },
   "file_extension": ".py",
   "mimetype": "text/x-python",
   "name": "python",
   "nbconvert_exporter": "python",
   "pygments_lexer": "ipython3",
   "version": "3.7.2"
  }
 },
 "nbformat": 4,
 "nbformat_minor": 2
}
