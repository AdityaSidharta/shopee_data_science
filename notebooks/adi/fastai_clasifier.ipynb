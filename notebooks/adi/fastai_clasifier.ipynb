{
 "cells": [
  {
   "cell_type": "code",
   "execution_count": null,
   "metadata": {},
   "outputs": [],
   "source": [
    "%cd /home/adityasidharta/git/shopee_data_science\n",
    "%env PROJECT_PATH /home/adityasidharta/git/shopee_data_science"
   ]
  },
  {
   "cell_type": "code",
   "execution_count": null,
   "metadata": {},
   "outputs": [],
   "source": [
    "import fastai\n",
    "from fastai import *\n",
    "from fastai.text import * \n",
    "import pandas as pd\n",
    "import numpy as np\n",
    "from functools import partial\n",
    "import io\n",
    "import os\n",
    "from sklearn.model_selection import train_test_split\n",
    "from utils.envs import *\n",
    "import string\n",
    "from utils.common import create_directory\n",
    "\n",
    "from pathlib import Path\n",
    "from category_encoders import OrdinalEncoder"
   ]
  },
  {
   "cell_type": "code",
   "execution_count": null,
   "metadata": {},
   "outputs": [],
   "source": [
    "create_directory(os.path.join(result_path, 'static'))\n",
    "RESULT_PATH = Path(os.path.join(result_path, 'static'))"
   ]
  },
  {
   "cell_type": "code",
   "execution_count": null,
   "metadata": {},
   "outputs": [],
   "source": [
    "data_lm = load_data(RESULT_PATH, 'data_lm.pkl')\n",
    "learn_lm = language_model_learner(data_lm, AWD_LSTM, drop_mult=0.3)\n",
    "learn_lm.load(RESULT_PATH/'model_lm.pkl')\n",
    "learn_lm.load_encoder(RESULT_PATH/'encoder_lm.pkl')"
   ]
  },
  {
   "cell_type": "code",
   "execution_count": null,
   "metadata": {},
   "outputs": [],
   "source": [
    "beauty_train = pd.read_csv(beauty_dev_repo)\n",
    "beauty_test = pd.read_csv(beauty_val_repo)\n",
    "\n",
    "fashion_train = pd.read_csv(fashion_dev_repo)\n",
    "fashion_test = pd.read_csv(fashion_val_repo)\n",
    "\n",
    "mobile_train = pd.read_csv(mobile_dev_repo)\n",
    "mobile_test = pd.read_csv(mobile_val_repo)"
   ]
  },
  {
   "cell_type": "code",
   "execution_count": null,
   "metadata": {},
   "outputs": [],
   "source": [
    "train_df = mobile_train\n",
    "test_df = mobile_test\n",
    "topic = 'Camera'"
   ]
  },
  {
   "cell_type": "code",
   "execution_count": null,
   "metadata": {},
   "outputs": [],
   "source": [
    "df_trn = train_df[[topic, 'title']].copy()\n",
    "df_tst = test_df[[topic, 'title']].copy()\n",
    "\n",
    "df_trn.columns = ['label', 'text']\n",
    "df_tst.columns = ['label', 'text']\n",
    "\n",
    "df_trn = df_trn.dropna()\n",
    "\n",
    "df_trn['label'] = df_trn['label'].astype(str)\n",
    "df_tst['label'] = df_tst['label'].astype(str)\n",
    "\n",
    "df_trn, df_val = train_test_split(df_trn, test_size = 0.2)"
   ]
  },
  {
   "cell_type": "code",
   "execution_count": null,
   "metadata": {},
   "outputs": [],
   "source": [
    "print(train_df.shape)\n",
    "print(test_df.shape)\n",
    "\n",
    "print(df_trn.shape)\n",
    "print(df_val.shape)\n",
    "print(df_tst.shape)"
   ]
  },
  {
   "cell_type": "code",
   "execution_count": null,
   "metadata": {},
   "outputs": [],
   "source": [
    "data_class = TextClasDataBunch.from_df('', train_df=df_trn, valid_df=df_val, test_df=df_tst, vocab=data_lm.vocab)\n",
    "data_class.show_batch()"
   ]
  },
  {
   "cell_type": "code",
   "execution_count": null,
   "metadata": {},
   "outputs": [],
   "source": [
    "learn_class.show_results(learn_class.data.test_ds)"
   ]
  },
  {
   "cell_type": "code",
   "execution_count": null,
   "metadata": {},
   "outputs": [],
   "source": [
    "learn_class = text_classifier_learner(data_class, AWD_LSTM, drop_mult=0.5)\n",
    "learn_class.load_encoder(RESULT_PATH/'encoder_lm.pkl')"
   ]
  },
  {
   "cell_type": "code",
   "execution_count": null,
   "metadata": {},
   "outputs": [],
   "source": [
    "learn_class.lr_find()"
   ]
  },
  {
   "cell_type": "code",
   "execution_count": null,
   "metadata": {},
   "outputs": [],
   "source": [
    "learn_class.recorder.plot()"
   ]
  },
  {
   "cell_type": "code",
   "execution_count": null,
   "metadata": {},
   "outputs": [],
   "source": [
    "learn_class.fit_one_cycle(1, 1e-1, moms=(0.8,0.7))"
   ]
  },
  {
   "cell_type": "code",
   "execution_count": null,
   "metadata": {},
   "outputs": [],
   "source": [
    "learn_class.fit_one_cycle(1, 1e-2, moms=(0.8,0.7))"
   ]
  },
  {
   "cell_type": "code",
   "execution_count": null,
   "metadata": {},
   "outputs": [],
   "source": [
    "learn_class.unfreeze()"
   ]
  },
  {
   "cell_type": "code",
   "execution_count": null,
   "metadata": {},
   "outputs": [],
   "source": [
    "learn_class.fit_one_cycle(1, 1e-2, moms=(0.8,0.7))"
   ]
  },
  {
   "cell_type": "code",
   "execution_count": null,
   "metadata": {},
   "outputs": [],
   "source": [
    "from sklearn.metrics import accuracy_score\n",
    "\n",
    "true_dict = {key: value for key, value in enumerate(learn_class.data.classes)}\n",
    "preds = learn_class.get_preds(ds_type=DatasetType.Fix, with_loss=True, ordered=True)\n",
    "preds = to_np(preds[0]).argmax(axis=1)\n",
    "final_preds = np.vectorize(true_dict.get)(preds)\n",
    "accuracy_score(df_trn['label'], final_preds)"
   ]
  },
  {
   "cell_type": "code",
   "execution_count": null,
   "metadata": {},
   "outputs": [],
   "source": [
    "from sklearn.metrics import accuracy_score\n",
    "\n",
    "true_dict = {key: value for key, value in enumerate(learn_class.data.classes)}\n",
    "preds = learn_class.get_preds(ds_type=DatasetType.Valid, ordered=True, with_loss=True)\n",
    "preds =to_np(preds[0]).argmax(axis=1)\n",
    "final_preds = np.vectorize(true_dict.get)(preds)\n",
    "accuracy_score(df_val['label'], final_preds)"
   ]
  },
  {
   "cell_type": "code",
   "execution_count": null,
   "metadata": {},
   "outputs": [],
   "source": [
    "from sklearn.metrics import accuracy_score\n",
    "\n",
    "true_dict = {key: value for key, value in enumerate(learn_class.data.classes)}\n",
    "preds = learn_class.get_preds(ds_type=DatasetType.Test, ordered=True, with_loss=True)\n",
    "preds = to_np(preds[0])\n",
    "pred_df = pd.DataFrame(preds, columns = learn_class.data.classes)"
   ]
  },
  {
   "cell_type": "code",
   "execution_count": null,
   "metadata": {},
   "outputs": [],
   "source": [
    "pred_df"
   ]
  }
 ],
 "metadata": {
  "kernelspec": {
   "display_name": "shopee_data_science",
   "language": "python",
   "name": "shopee_data_science"
  },
  "language_info": {
   "codemirror_mode": {
    "name": "ipython",
    "version": 3
   },
   "file_extension": ".py",
   "mimetype": "text/x-python",
   "name": "python",
   "nbconvert_exporter": "python",
   "pygments_lexer": "ipython3",
   "version": "3.7.2"
  }
 },
 "nbformat": 4,
 "nbformat_minor": 2
}
