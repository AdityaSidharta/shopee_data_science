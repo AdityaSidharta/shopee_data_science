{
 "cells": [
  {
   "cell_type": "code",
   "execution_count": null,
   "metadata": {},
   "outputs": [],
   "source": [
    "%cd /home/aditya/extrahd/shopee_data_science\n",
    "%env PROJECT_PATH /home/aditya/extrahd/shopee_data_science\n"
   ]
  },
  {
   "cell_type": "code",
   "execution_count": null,
   "metadata": {},
   "outputs": [],
   "source": [
    "from utils.envs import *\n",
    "import pandas as pd\n",
    "import numpy as np\n",
    "from sklearn.feature_extraction.text import TfidfVectorizer\n",
    "from sklearn.decomposition import TruncatedSVD\n",
    "from sklearn.model_selection import train_test_split\n",
    "import xgboost as xgb\n",
    "import lightgbm as lgb\n",
    "import string\n",
    "import os\n",
    "import json"
   ]
  },
  {
   "cell_type": "code",
   "execution_count": null,
   "metadata": {},
   "outputs": [],
   "source": [
    "fashion_val_repo"
   ]
  },
  {
   "cell_type": "code",
   "execution_count": null,
   "metadata": {},
   "outputs": [],
   "source": [
    "fashion_val = pd.read_csv(fashion_val_repo)\n",
    "fashion_leak = pd.read_csv(os.path.join(data_path, 'fashion_data_info_val_submission.csv'))\n",
    "with open(fashion_profile_json) as f:\n",
    "    fashion_json = json.load(f)"
   ]
  },
  {
   "cell_type": "code",
   "execution_count": null,
   "metadata": {},
   "outputs": [],
   "source": [
    "for column in fashion_leak.columns:\n",
    "    if column in fashion_json.keys():\n",
    "        fashion_leak[column] = fashion_leak[column].map(fashion_json[column])"
   ]
  },
  {
   "cell_type": "code",
   "execution_count": null,
   "metadata": {},
   "outputs": [],
   "source": [
    "fashion_full = pd.concat([fashion_val, fashion_leak], axis=1)"
   ]
  },
  {
   "cell_type": "code",
   "execution_count": null,
   "metadata": {},
   "outputs": [],
   "source": [
    "result_row = []\n",
    "for idx, row in fashion_full.iterrows():\n",
    "    for columns in ['Clothing Material', 'Pattern',\n",
    "       'Sleeves', 'Collar Type', 'Fashion Trend']:\n",
    "        value = row[columns]\n",
    "        value = str(int(value)) if not pd.isnull(value) else ''\n",
    "        result_row.append({\n",
    "            'id': str(row.itemid) + '_{}'.format(columns),\n",
    "            'tagging': value\n",
    "        })\n",
    "result_df = pd.DataFrame(result_row)"
   ]
  },
  {
   "cell_type": "code",
   "execution_count": null,
   "metadata": {},
   "outputs": [],
   "source": [
    "result_df"
   ]
  },
  {
   "cell_type": "code",
   "execution_count": null,
   "metadata": {},
   "outputs": [],
   "source": [
    "result_df.to_csv(os.path.join(result_path, 'leak_answer.csv'), index=False)"
   ]
  },
  {
   "cell_type": "code",
   "execution_count": null,
   "metadata": {},
   "outputs": [],
   "source": []
  }
 ],
 "metadata": {
  "kernelspec": {
   "display_name": "Python 3",
   "language": "python",
   "name": "python3"
  },
  "language_info": {
   "codemirror_mode": {
    "name": "ipython",
    "version": 3
   },
   "file_extension": ".py",
   "mimetype": "text/x-python",
   "name": "python",
   "nbconvert_exporter": "python",
   "pygments_lexer": "ipython3",
   "version": "3.6.8"
  }
 },
 "nbformat": 4,
 "nbformat_minor": 2
}
