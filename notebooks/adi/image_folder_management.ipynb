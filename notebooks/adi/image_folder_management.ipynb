{
 "cells": [
  {
   "cell_type": "code",
   "execution_count": null,
   "metadata": {},
   "outputs": [],
   "source": [
    "%cd /home/adityasidharta/git/shopee_data_science\n",
    "%env PROJECT_PATH /home/adityasidharta/git/shopee_data_science"
   ]
  },
  {
   "cell_type": "code",
   "execution_count": null,
   "metadata": {},
   "outputs": [],
   "source": [
    "import os\n",
    "import pandas as pd\n",
    "\n",
    "from utils.envs import *\n",
    "from utils.common import create_directory\n",
    "from pathlib import Path\n",
    "from tqdm import tqdm"
   ]
  },
  {
   "cell_type": "code",
   "execution_count": null,
   "metadata": {},
   "outputs": [],
   "source": [
    "root_folder = '/home/adityasidharta/git/shopee_data'"
   ]
  },
  {
   "cell_type": "code",
   "execution_count": null,
   "metadata": {},
   "outputs": [],
   "source": [
    "beauty_folder = os.path.join(root_folder, 'beauty_image')\n",
    "fashion_folder = os.path.join(root_folder, 'fashion_image')\n",
    "new_fashion_folder = os.path.join(root_folder, 'new_fashion_image')\n",
    "mobile_folder = os.path.join(root_folder, 'mobile_image')"
   ]
  },
  {
   "cell_type": "code",
   "execution_count": null,
   "metadata": {},
   "outputs": [],
   "source": [
    "beauty_dev_folder = os.path.join(root_folder, 'beauty_dev')\n",
    "beauty_val_folder = os.path.join(root_folder, 'beauty_val')\n",
    "beauty_test_folder = os.path.join(root_folder, 'beauty_test')\n",
    "\n",
    "fashion_dev_folder = os.path.join(root_folder, 'fashion_dev')\n",
    "fashion_val_folder = os.path.join(root_folder, 'fashion_val')\n",
    "fashion_test_folder = os.path.join(root_folder, 'fashion_test')\n",
    "\n",
    "mobile_dev_folder = os.path.join(root_folder, 'mobile_dev')\n",
    "mobile_val_folder = os.path.join(root_folder, 'mobile_val')\n",
    "mobile_test_folder = os.path.join(root_folder, 'mobile_test')\n",
    "\n",
    "for x in [beauty_dev_folder, beauty_val_folder, beauty_test_folder, fashion_dev_folder,\n",
    "         fashion_val_folder, fashion_test_folder, mobile_dev_folder, mobile_val_folder,\n",
    "         mobile_test_folder]:\n",
    "    print(x)\n",
    "    create_directory(x)\n",
    "    "
   ]
  },
  {
   "cell_type": "code",
   "execution_count": null,
   "metadata": {},
   "outputs": [],
   "source": [
    "beauty_dev = pd.read_csv(beauty_dev_repo)\n",
    "beauty_val = pd.read_csv(beauty_val_repo)\n",
    "beauty_train = pd.read_csv(beauty_train_repo)\n",
    "beauty_test = pd.read_csv(beauty_test_repo)\n",
    "\n",
    "fashion_dev = pd.read_csv(fashion_dev_repo)\n",
    "fashion_val = pd.read_csv(fashion_val_repo)\n",
    "fashion_train = pd.read_csv(fashion_train_repo)\n",
    "fashion_test = pd.read_csv(fashion_test_repo)\n",
    "\n",
    "mobile_dev = pd.read_csv(mobile_dev_repo)\n",
    "mobile_val = pd.read_csv(mobile_val_repo)\n",
    "mobile_train = pd.read_csv(mobile_train_repo)\n",
    "mobile_test = pd.read_csv(mobile_test_repo)"
   ]
  },
  {
   "cell_type": "code",
   "execution_count": null,
   "metadata": {},
   "outputs": [],
   "source": [
    "len(fashion_train)"
   ]
  },
  {
   "cell_type": "code",
   "execution_count": null,
   "metadata": {},
   "outputs": [],
   "source": [
    "def move(df, ori_folder, dest_folder, alt_ori_folder = None):\n",
    "    filename_list = df.image_path.tolist()\n",
    "    for image_path in tqdm(filename_list):\n",
    "        filename = image_path.split('/')[1]\n",
    "        if not filename.endswith('.jpg'):\n",
    "            filename = filename + '.jpg'\n",
    "        ori_path = os.path.join(ori_folder, filename)\n",
    "        dest_path = os.path.join(dest_folder, filename)\n",
    "        if os.path.exists(dest_path):\n",
    "            continue\n",
    "        else:\n",
    "            assert os.path.exists(ori_path)\n",
    "            os.rename(ori_path, dest_path)"
   ]
  },
  {
   "cell_type": "code",
   "execution_count": null,
   "metadata": {},
   "outputs": [],
   "source": [
    "move(fashion_val, fashion_folder, fashion_val_folder, None)"
   ]
  },
  {
   "cell_type": "code",
   "execution_count": null,
   "metadata": {},
   "outputs": [],
   "source": [
    "print(len(os.listdir(fashion_dev_folder)))\n",
    "print(len(os.listdir(fashion_val_folder)))\n",
    "print(len(os.listdir(fashion_test_folder)))\n",
    "\n",
    "print(len(os.listdir(beauty_dev_folder)))\n",
    "print(len(os.listdir(beauty_val_folder)))\n",
    "print(len(os.listdir(beauty_test_folder)))\n",
    "\n",
    "print(len(os.listdir(mobile_dev_folder)))\n",
    "print(len(os.listdir(mobile_val_folder)))\n",
    "print(len(os.listdir(mobile_test_folder)))\n"
   ]
  },
  {
   "cell_type": "code",
   "execution_count": null,
   "metadata": {},
   "outputs": [],
   "source": [
    "print(len(fashion_dev))\n",
    "print(len(fashion_val))\n",
    "print(len(fashion_train))\n",
    "print(len(fashion_test))\n",
    "\n",
    "print(len(beauty_dev))\n",
    "print(len(beauty_val))\n",
    "print(len(beauty_train))\n",
    "print(len(beauty_test))\n",
    "\n",
    "print(len(mobile_dev))\n",
    "print(len(mobile_val))\n",
    "print(len(mobile_train))\n",
    "print(len(mobile_test))"
   ]
  },
  {
   "cell_type": "code",
   "execution_count": null,
   "metadata": {},
   "outputs": [],
   "source": []
  }
 ],
 "metadata": {
  "kernelspec": {
   "display_name": "shopee_data_science",
   "language": "python",
   "name": "shopee_data_science"
  },
  "language_info": {
   "codemirror_mode": {
    "name": "ipython",
    "version": 3
   },
   "file_extension": ".py",
   "mimetype": "text/x-python",
   "name": "python",
   "nbconvert_exporter": "python",
   "pygments_lexer": "ipython3",
   "version": "3.7.2"
  }
 },
 "nbformat": 4,
 "nbformat_minor": 2
}
