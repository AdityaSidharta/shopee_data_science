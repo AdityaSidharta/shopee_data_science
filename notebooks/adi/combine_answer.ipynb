{
 "cells": [
  {
   "cell_type": "code",
   "execution_count": null,
   "metadata": {},
   "outputs": [],
   "source": [
    "%cd /home/aditya/extrahd/shopee_data_science\n",
    "%env PROJECT_PATH /home/aditya/extrahd/shopee_data_science"
   ]
  },
  {
   "cell_type": "code",
   "execution_count": null,
   "metadata": {},
   "outputs": [],
   "source": [
    "from utils.envs import *\n",
    "import pandas as pd\n",
    "import numpy as np\n",
    "from sklearn.feature_extraction.text import TfidfVectorizer\n",
    "from sklearn.decomposition import TruncatedSVD\n",
    "from sklearn.model_selection import train_test_split\n",
    "import xgboost as xgb\n",
    "import lightgbm as lgb\n",
    "import string\n",
    "import os\n",
    "import json"
   ]
  },
  {
   "cell_type": "code",
   "execution_count": null,
   "metadata": {},
   "outputs": [],
   "source": [
    "beauty_df = pd.read_csv(os.path.join(result_path, 'beauty_result_NEW.csv')).fillna(0)\n",
    "fashion_df = pd.read_csv(os.path.join(result_path, 'fashion_result_NEW.csv')).fillna(0)\n",
    "mobile_df = pd.read_csv(os.path.join(result_path, 'mobile_result_NEW.csv')).fillna(0)\n",
    "leak_df = pd.read_csv(os.path.join(result_path, 'leak_answer.csv')).fillna(0)"
   ]
  },
  {
   "cell_type": "code",
   "execution_count": null,
   "metadata": {},
   "outputs": [],
   "source": [
    "print(beauty_df.shape)\n",
    "print(fashion_df.shape)\n",
    "print(mobile_df.shape)\n",
    "print(leak_df.shape)"
   ]
  },
  {
   "cell_type": "code",
   "execution_count": null,
   "metadata": {},
   "outputs": [],
   "source": [
    "check_df = leak_df.merge(fashion_df, on='id', how='left')"
   ]
  },
  {
   "cell_type": "code",
   "execution_count": null,
   "metadata": {},
   "outputs": [],
   "source": [
    "print((check_df.tagging_x == check_df.tagging_y).sum())\n",
    "print((check_df.tagging_x != check_df.tagging_y).sum())"
   ]
  },
  {
   "cell_type": "code",
   "execution_count": null,
   "metadata": {},
   "outputs": [],
   "source": [
    "leak = False\n",
    "\n",
    "if leak:\n",
    "    fashion_df = leak_df"
   ]
  },
  {
   "cell_type": "code",
   "execution_count": null,
   "metadata": {},
   "outputs": [],
   "source": [
    "label_df = pd.read_csv(os.path.join(data_path, 'data_info_val_sample_submission.csv'))[['id']]"
   ]
  },
  {
   "cell_type": "code",
   "execution_count": null,
   "metadata": {},
   "outputs": [],
   "source": [
    "answer_df = pd.concat([beauty_df, fashion_df, mobile_df])"
   ]
  },
  {
   "cell_type": "code",
   "execution_count": null,
   "metadata": {},
   "outputs": [],
   "source": [
    "submission_df = label_df.merge(answer_df, on='id', how='left')"
   ]
  },
  {
   "cell_type": "code",
   "execution_count": null,
   "metadata": {},
   "outputs": [],
   "source": [
    "submission_df['tagging'] = submission_df['tagging'].astype(int).astype(str)"
   ]
  },
  {
   "cell_type": "code",
   "execution_count": null,
   "metadata": {},
   "outputs": [],
   "source": [
    "if leak:\n",
    "    submission_df.to_csv(os.path.join(result_path, 'final_result_hp_wl.csv'), index=False)\n",
    "else:\n",
    "    submission_df.to_csv(os.path.join(result_path, 'final_result_hp_wo.csv'), index=False)"
   ]
  },
  {
   "cell_type": "code",
   "execution_count": null,
   "metadata": {},
   "outputs": [],
   "source": [
    "wo = pd.read_csv('/home/aditya/extrahd/shopee_data_science/output/result/final_result_hp_wo.csv', dtype={'tagging': object}).fillna('')\n",
    "wl = pd.read_csv('/home/aditya/extrahd/shopee_data_science/output/result/final_result_hp_wl.csv', dtype={'tagging': object}).fillna('')"
   ]
  },
  {
   "cell_type": "code",
   "execution_count": null,
   "metadata": {},
   "outputs": [],
   "source": [
    "wo[wo.tagging != wl.tagging]"
   ]
  },
  {
   "cell_type": "code",
   "execution_count": null,
   "metadata": {},
   "outputs": [],
   "source": []
  }
 ],
 "metadata": {
  "kernelspec": {
   "display_name": "Python 3",
   "language": "python",
   "name": "python3"
  },
  "language_info": {
   "codemirror_mode": {
    "name": "ipython",
    "version": 3
   },
   "file_extension": ".py",
   "mimetype": "text/x-python",
   "name": "python",
   "nbconvert_exporter": "python",
   "pygments_lexer": "ipython3",
   "version": "3.6.5"
  }
 },
 "nbformat": 4,
 "nbformat_minor": 2
}
