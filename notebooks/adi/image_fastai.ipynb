{
 "cells": [
  {
   "cell_type": "code",
   "execution_count": null,
   "metadata": {},
   "outputs": [],
   "source": [
    "%cd /home/adityasidharta/git/shopee_data_science\n",
    "%env PROJECT_PATH /home/adityasidharta/git/shopee_data_science"
   ]
  },
  {
   "cell_type": "code",
   "execution_count": null,
   "metadata": {},
   "outputs": [],
   "source": [
    "import os\n",
    "import pandas as pd\n",
    "\n",
    "from utils.envs import *\n",
    "from utils.common import create_directory\n",
    "from pathlib import Path\n",
    "from tqdm import tqdm\n",
    "\n",
    "import fastai\n",
    "from fastai import *\n",
    "from fastai.vision import * \n",
    "import pandas as pd\n",
    "import numpy as np\n",
    "from functools import partial\n",
    "import io\n",
    "import os\n",
    "from sklearn.model_selection import train_test_split\n",
    "from utils.envs import *\n",
    "import string\n",
    "from utils.common import create_directory\n",
    "\n",
    "from pathlib import Path\n",
    "from category_encoders import OrdinalEncoder"
   ]
  },
  {
   "cell_type": "code",
   "execution_count": null,
   "metadata": {},
   "outputs": [],
   "source": [
    "root_folder = '/home/adityasidharta/git/shopee_data'"
   ]
  },
  {
   "cell_type": "code",
   "execution_count": null,
   "metadata": {},
   "outputs": [],
   "source": [
    "beauty_dev_folder = os.path.join(root_folder, 'beauty_dev')\n",
    "beauty_val_folder = os.path.join(root_folder, 'beauty_val')\n",
    "beauty_test_folder = os.path.join(root_folder, 'beauty_test')\n",
    "\n",
    "fashion_dev_folder = os.path.join(root_folder, 'fashion_dev')\n",
    "fashion_val_folder = os.path.join(root_folder, 'fashion_val')\n",
    "fashion_test_folder = os.path.join(root_folder, 'fashion_test')\n",
    "\n",
    "mobile_dev_folder = os.path.join(root_folder, 'mobile_dev')\n",
    "mobile_val_folder = os.path.join(root_folder, 'mobile_val')\n",
    "mobile_test_folder = os.path.join(root_folder, 'mobile_test')"
   ]
  },
  {
   "cell_type": "code",
   "execution_count": null,
   "metadata": {},
   "outputs": [],
   "source": [
    "beauty_dev = pd.read_csv(beauty_dev_repo)\n",
    "beauty_val = pd.read_csv(beauty_val_repo)\n",
    "beauty_train = pd.read_csv(beauty_train_repo)\n",
    "beauty_test = pd.read_csv(beauty_test_repo)\n",
    "\n",
    "fashion_dev = pd.read_csv(fashion_dev_repo)\n",
    "fashion_val = pd.read_csv(fashion_val_repo)\n",
    "fashion_train = pd.read_csv(fashion_train_repo)\n",
    "fashion_test = pd.read_csv(fashion_test_repo)\n",
    "\n",
    "mobile_dev = pd.read_csv(mobile_dev_repo)\n",
    "mobile_val = pd.read_csv(mobile_val_repo)\n",
    "mobile_train = pd.read_csv(mobile_train_repo)\n",
    "mobile_test = pd.read_csv(mobile_test_repo)"
   ]
  },
  {
   "cell_type": "code",
   "execution_count": null,
   "metadata": {},
   "outputs": [],
   "source": [
    "path = Path('/home/adityasidharta/git/shopee_data')"
   ]
  },
  {
   "cell_type": "code",
   "execution_count": null,
   "metadata": {},
   "outputs": [],
   "source": [
    "def fix_image_path(input_df, relative_path):\n",
    "    df = input_df.copy()\n",
    "    for idx in tqdm(range(len(input_df))):\n",
    "        filename = df.at[idx, 'image_path'].split('/')[1]\n",
    "        if not filename.endswith('.jpg'):\n",
    "            filename = filename + '.jpg'\n",
    "        final_filename = os.path.join(relative_path, filename)\n",
    "        df.at[idx, 'image_path'] = final_filename\n",
    "    return df"
   ]
  },
  {
   "cell_type": "code",
   "execution_count": null,
   "metadata": {},
   "outputs": [],
   "source": [
    "beauty_dev = fix_image_path(beauty_dev, 'beauty_dev')\n",
    "beauty_val = fix_image_path(beauty_val, 'beauty_val')\n",
    "beauty_test = fix_image_path(beauty_test, 'beauty_test')\n",
    "\n",
    "fashion_dev = fix_image_path(fashion_dev, 'fashion_dev')\n",
    "fashion_val = fix_image_path(fashion_val, 'fashion_val')\n",
    "fashion_test = fix_image_path(fashion_test, 'fashion_test')\n",
    "\n",
    "mobile_dev = fix_image_path(mobile_dev, 'mobile_dev')\n",
    "mobile_val = fix_image_path(mobile_val, 'mobile_val')\n",
    "mobile_test = fix_image_path(mobile_test, 'mobile_test')"
   ]
  },
  {
   "cell_type": "code",
   "execution_count": null,
   "metadata": {},
   "outputs": [],
   "source": [
    "column = 'Brand'\n",
    "train_df = mobile_train\n",
    "test_df = mobile_test\n",
    "test_folder = 'mobile_test'"
   ]
  },
  {
   "cell_type": "code",
   "execution_count": null,
   "metadata": {},
   "outputs": [],
   "source": [
    "train_df = mobile_dev[['image_path', column]]\n",
    "train_df.columns = ['name', 'label']\n",
    "train_df = train_df[~pd.isnull(train_df.label)]\n",
    "train_df['label'] = train_df['label'].astype(str)"
   ]
  },
  {
   "cell_type": "code",
   "execution_count": null,
   "metadata": {},
   "outputs": [],
   "source": [
    "test_df = mobile_test[['image_path']].astype(str)\n",
    "test_df.columns = ['name']"
   ]
  },
  {
   "cell_type": "code",
   "execution_count": null,
   "metadata": {},
   "outputs": [],
   "source": [
    "tfms = get_transforms()"
   ]
  },
  {
   "cell_type": "code",
   "execution_count": null,
   "metadata": {},
   "outputs": [],
   "source": [
    "data = ImageDataBunch.from_df(path, df=train_df, size = 224)\n",
    "data.normalize()"
   ]
  },
  {
   "cell_type": "code",
   "execution_count": null,
   "metadata": {},
   "outputs": [],
   "source": [
    "learn = create_cnn(data, models.alexnet, metrics=accuracy)"
   ]
  },
  {
   "cell_type": "code",
   "execution_count": null,
   "metadata": {},
   "outputs": [],
   "source": [
    "learn.lr_find()\n",
    "learn.recorder.plot()"
   ]
  },
  {
   "cell_type": "code",
   "execution_count": null,
   "metadata": {},
   "outputs": [],
   "source": [
    "learn.fit(1)"
   ]
  },
  {
   "cell_type": "code",
   "execution_count": null,
   "metadata": {},
   "outputs": [],
   "source": [
    "learn.export()"
   ]
  },
  {
   "cell_type": "code",
   "execution_count": null,
   "metadata": {},
   "outputs": [],
   "source": [
    "test = ImageList.from_folder(path/'mobile_test')\n",
    "final_learn = load_learner(path, test=test)"
   ]
  },
  {
   "cell_type": "code",
   "execution_count": null,
   "metadata": {},
   "outputs": [],
   "source": [
    "train_items = learn.data.label_list.train.items\n",
    "val_items = learn.data.label_list.valid.items\n",
    "test_items = final_learn.data.label_list.test.items"
   ]
  },
  {
   "cell_type": "code",
   "execution_count": null,
   "metadata": {},
   "outputs": [],
   "source": [
    "print(len(train_items))\n",
    "print(len(val_items))\n",
    "print(len(test_items))"
   ]
  },
  {
   "cell_type": "code",
   "execution_count": null,
   "metadata": {},
   "outputs": [],
   "source": [
    "train_preds = learn.get_preds(ds_type=DatasetType.Fix)\n",
    "val_preds = learn.get_preds(ds_type=DatasetType.Valid)\n",
    "test_preds = final_learn.get_preds(ds_type=DatasetType.Test)"
   ]
  },
  {
   "cell_type": "code",
   "execution_count": null,
   "metadata": {},
   "outputs": [],
   "source": [
    "class_dict = true_dict = {key: value for key, value in enumerate(learn.data.classes)}"
   ]
  },
  {
   "cell_type": "code",
   "execution_count": null,
   "metadata": {},
   "outputs": [],
   "source": [
    "items = train_items.copy()"
   ]
  },
  {
   "cell_type": "code",
   "execution_count": null,
   "metadata": {},
   "outputs": [],
   "source": [
    "label_train_df = pd.DataFrame({\n",
    "    'name': train_items\n",
    "})\n",
    "\n",
    "label_train_df['name'] = label_train_df['name'].apply(lambda x : 'mobile_dev/' + x.split('/')[-1])\n",
    "label_train_df = label_train_df.merge(train_df, on='name', how='left', validate='1:1')"
   ]
  },
  {
   "cell_type": "code",
   "execution_count": null,
   "metadata": {},
   "outputs": [],
   "source": [
    "label_val_df = pd.DataFrame({\n",
    "    'name': val_items\n",
    "})\n",
    "\n",
    "label_val_df['name'] = label_val_df['name'].apply(lambda x : 'mobile_dev/' + x.split('/')[-1])\n",
    "label_val_df = label_val_df.merge(train_df, on='name', how='left', validate='1:1')"
   ]
  },
  {
   "cell_type": "code",
   "execution_count": null,
   "metadata": {},
   "outputs": [],
   "source": [
    "label_test_df = pd.DataFrame({\n",
    "    'name': test_items\n",
    "})"
   ]
  },
  {
   "cell_type": "code",
   "execution_count": null,
   "metadata": {},
   "outputs": [],
   "source": [
    "preds = train_preds\n",
    "label = label_train_df['label']\n",
    "\n",
    "\n",
    "from sklearn.metrics import accuracy_score\n",
    "\n",
    "argmax_preds = to_np(preds[0]).argmax(axis=1)\n",
    "final_preds = np.vectorize(class_dict.get)(argmax_preds)\n",
    "accuracy_score(label, final_preds)"
   ]
  },
  {
   "cell_type": "code",
   "execution_count": null,
   "metadata": {},
   "outputs": [],
   "source": [
    "preds = val_preds\n",
    "label = label_val_df['label']\n",
    "\n",
    "\n",
    "from sklearn.metrics import accuracy_score\n",
    "\n",
    "argmax_preds = to_np(preds[0]).argmax(axis=1)\n",
    "final_preds = np.vectorize(class_dict.get)(argmax_preds)\n",
    "accuracy_score(label, final_preds)"
   ]
  },
  {
   "cell_type": "code",
   "execution_count": null,
   "metadata": {},
   "outputs": [],
   "source": [
    "pred_df = pd.DataFrame(to_np(test_preds[0]), columns = learn.data.classes)"
   ]
  },
  {
   "cell_type": "code",
   "execution_count": null,
   "metadata": {},
   "outputs": [],
   "source": [
    "pred_df"
   ]
  }
 ],
 "metadata": {
  "kernelspec": {
   "display_name": "shopee_data_science",
   "language": "python",
   "name": "shopee_data_science"
  },
  "language_info": {
   "codemirror_mode": {
    "name": "ipython",
    "version": 3
   },
   "file_extension": ".py",
   "mimetype": "text/x-python",
   "name": "python",
   "nbconvert_exporter": "python",
   "pygments_lexer": "ipython3",
   "version": "3.7.2"
  }
 },
 "nbformat": 4,
 "nbformat_minor": 2
}
