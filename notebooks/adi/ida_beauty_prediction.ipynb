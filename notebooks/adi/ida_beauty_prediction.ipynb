{
 "cells": [
  {
   "cell_type": "code",
   "execution_count": null,
   "metadata": {},
   "outputs": [],
   "source": [
    "%cd /home/adityasidharta/git/shopee_data_science\n",
    "%env PROJECT_PATH /home/adityasidharta/git/shopee_data_science"
   ]
  },
  {
   "cell_type": "code",
   "execution_count": null,
   "metadata": {},
   "outputs": [],
   "source": [
    "from utils.envs import *\n",
    "import pandas as pd"
   ]
  },
  {
   "cell_type": "code",
   "execution_count": null,
   "metadata": {},
   "outputs": [],
   "source": [
    "ida_beauty = pd.read_csv('/home/adityasidharta/git/shopee_data_science/output/result/ida/beauty_info_val_submission20190318.csv', index_col=0)"
   ]
  },
  {
   "cell_type": "code",
   "execution_count": null,
   "metadata": {},
   "outputs": [],
   "source": [
    "ida_beauty['tagging'] = ida_beauty['tagging'].fillna('')\n",
    "ida_beauty['tagging'] = ida_beauty['tagging'].apply(lambda x : str(x).split('.')[0])"
   ]
  },
  {
   "cell_type": "code",
   "execution_count": null,
   "metadata": {},
   "outputs": [],
   "source": [
    "kaggle_df = pd.read_csv('/home/adityasidharta/git/shopee_data_science/output/result/result_20190314-225622.csv')"
   ]
  },
  {
   "cell_type": "code",
   "execution_count": null,
   "metadata": {},
   "outputs": [],
   "source": [
    "merge_df = kaggle_df.merge(ida_beauty, how='left', on='id', validate='1:1')\n",
    "merge_df = merge_df.fillna('')"
   ]
  },
  {
   "cell_type": "code",
   "execution_count": null,
   "metadata": {},
   "outputs": [],
   "source": [
    "def final_tagging(rows):\n",
    "    first_prediction = str(rows.tagging_x.split()[0])\n",
    "    second_prediction = str(rows.tagging_x.split()[1])\n",
    "    ida_prediction = str(rows.tagging_y)\n",
    "    if ida_prediction == '':\n",
    "        return rows.tagging_x\n",
    "    else:\n",
    "        if ida_prediction != first_prediction:\n",
    "            return \"{} {}\".format(ida_prediction, first_prediction)\n",
    "        else:\n",
    "            return \"{} {}\".format(ida_prediction, second_prediction)"
   ]
  },
  {
   "cell_type": "code",
   "execution_count": null,
   "metadata": {},
   "outputs": [],
   "source": [
    "merge_df['tagging'] = merge_df.apply(final_tagging, axis = 1)"
   ]
  },
  {
   "cell_type": "code",
   "execution_count": null,
   "metadata": {},
   "outputs": [],
   "source": [
    "merge_df.head(20)"
   ]
  },
  {
   "cell_type": "code",
   "execution_count": null,
   "metadata": {},
   "outputs": [],
   "source": [
    "merge_df = merge_df[['id', 'tagging']]"
   ]
  },
  {
   "cell_type": "code",
   "execution_count": null,
   "metadata": {},
   "outputs": [],
   "source": [
    "merge_df.to_csv(os.path.join(output_path, 'result/prediction_ida_beauty_19_march.csv'), index=False)"
   ]
  },
  {
   "cell_type": "code",
   "execution_count": null,
   "metadata": {},
   "outputs": [],
   "source": []
  }
 ],
 "metadata": {
  "kernelspec": {
   "display_name": "shopee_data_science",
   "language": "python",
   "name": "shopee_data_science"
  },
  "language_info": {
   "codemirror_mode": {
    "name": "ipython",
    "version": 3
   },
   "file_extension": ".py",
   "mimetype": "text/x-python",
   "name": "python",
   "nbconvert_exporter": "python",
   "pygments_lexer": "ipython3",
   "version": "3.7.2"
  }
 },
 "nbformat": 4,
 "nbformat_minor": 2
}
