{
 "cells": [
  {
   "cell_type": "code",
   "execution_count": null,
   "metadata": {},
   "outputs": [],
   "source": [
    "%load_ext autoreload\n",
    "%autoreload 2"
   ]
  },
  {
   "cell_type": "code",
   "execution_count": null,
   "metadata": {},
   "outputs": [],
   "source": [
    "%cd /home/adityasidharta/git/shopee_data_science\n",
    "%env PROJECT_PATH /home/adityasidharta/git/shopee_data_science"
   ]
  },
  {
   "cell_type": "code",
   "execution_count": null,
   "metadata": {},
   "outputs": [],
   "source": [
    "from utils.envs import *\n",
    "from model.heuristic.mobile.extractor import *\n",
    "import pandas as pd\n",
    "from model.heuristic.mobile.enricher import *"
   ]
  },
  {
   "cell_type": "code",
   "execution_count": null,
   "metadata": {},
   "outputs": [],
   "source": [
    "Ext = Extractor()\n",
    "Enr = Enricher()"
   ]
  },
  {
   "cell_type": "code",
   "execution_count": null,
   "metadata": {},
   "outputs": [],
   "source": [
    "import json\n",
    "\n",
    "def load_json(path):\n",
    "    with open(path, 'r') as f:\n",
    "        return json.load(f)"
   ]
  },
  {
   "cell_type": "code",
   "execution_count": null,
   "metadata": {},
   "outputs": [],
   "source": [
    "test_df = pd.read_csv(mobile_test_repo)\n",
    "mobile_json = load_json(mobile_profile_json)"
   ]
  },
  {
   "cell_type": "code",
   "execution_count": null,
   "metadata": {},
   "outputs": [],
   "source": [
    "mobile_columns = ['Operating System', 'Features',\n",
    "               'Network Connections', 'Memory RAM', 'Brand', 'Warranty Period',\n",
    "               'Storage Capacity', 'Color Family', 'Phone Model', 'Camera',\n",
    "               'Phone Screen Size']"
   ]
  },
  {
   "cell_type": "code",
   "execution_count": null,
   "metadata": {},
   "outputs": [],
   "source": [
    "def create_pred_dataframe(extracted, item_id):\n",
    "    result_list = []\n",
    "    for feature in mobile_columns:\n",
    "        extracted_value = extracted[feature]\n",
    "        tagging = ''\n",
    "        if isinstance(extracted_value, list):\n",
    "            if len(extracted_value) == 1:\n",
    "                extracted_value = extracted_value[0]\n",
    "                if extracted_value in mobile_json[feature].keys():\n",
    "                    tagging = mobile_json[feature][extracted_value]\n",
    "        else:\n",
    "            if extracted_value in mobile_json[feature].keys():\n",
    "                tagging = mobile_json[feature][extracted_value]\n",
    "        result_list.append({\n",
    "            'id': str(item_id) + '_{}'.format(feature),\n",
    "            'tagging': tagging\n",
    "        })\n",
    "    return pd.DataFrame(result_list)"
   ]
  },
  {
   "cell_type": "code",
   "execution_count": null,
   "metadata": {},
   "outputs": [],
   "source": [
    "from tqdm import tqdm"
   ]
  },
  {
   "cell_type": "code",
   "execution_count": null,
   "metadata": {},
   "outputs": [],
   "source": [
    "len(test_df)"
   ]
  },
  {
   "cell_type": "code",
   "execution_count": null,
   "metadata": {},
   "outputs": [],
   "source": [
    "enriched_list = []\n",
    "\n",
    "Ext = Extractor()\n",
    "Enr = Enricher()\n",
    "\n",
    "for idx, rows in tqdm(test_df.iterrows()):\n",
    "    extracted = Ext.extract_from_title(rows.title)\n",
    "    enriched = Enr.enrich(extracted)\n",
    "    \n",
    "    enriched_df = create_pred_dataframe(enriched, rows.itemid)\n",
    "    enriched_list.append(enriched_df)"
   ]
  },
  {
   "cell_type": "code",
   "execution_count": null,
   "metadata": {},
   "outputs": [],
   "source": [
    "result_enriched_df = pd.concat(enriched_list)"
   ]
  },
  {
   "cell_type": "code",
   "execution_count": null,
   "metadata": {},
   "outputs": [],
   "source": [
    "result_enriched_df.head()"
   ]
  },
  {
   "cell_type": "code",
   "execution_count": null,
   "metadata": {},
   "outputs": [],
   "source": [
    "kaggle_df = pd.read_csv('/home/adityasidharta/git/shopee_data_science/output/result/result_20190314-225622.csv')"
   ]
  },
  {
   "cell_type": "code",
   "execution_count": null,
   "metadata": {},
   "outputs": [],
   "source": [
    "merge_df = kaggle_df.merge(result_enriched_df, how='left', on='id')\n",
    "merge_df = merge_df.fillna('')"
   ]
  },
  {
   "cell_type": "code",
   "execution_count": null,
   "metadata": {},
   "outputs": [],
   "source": [
    "def final_tagging(rows):\n",
    "    first_prediction = str(rows.tagging_x.split(' ')[0])\n",
    "    second_prediction = str(rows.tagging_x.split(' ')[1])\n",
    "    kyle_prediction = str(rows.tagging_y)\n",
    "    if kyle_prediction == '':\n",
    "        return rows.tagging_x\n",
    "    else:\n",
    "        if kyle_prediction != first_prediction:\n",
    "            return \"{} {}\".format(kyle_prediction, first_prediction)\n",
    "        else:\n",
    "            return \"{} {}\".format(kyle_prediction, second_prediction)"
   ]
  },
  {
   "cell_type": "code",
   "execution_count": null,
   "metadata": {},
   "outputs": [],
   "source": [
    "merge_df['tagging'] = merge_df.apply(final_tagging, axis = 1)"
   ]
  },
  {
   "cell_type": "code",
   "execution_count": null,
   "metadata": {},
   "outputs": [],
   "source": [
    "merge_df[merge_df.tagging_y != ''].head(20)"
   ]
  },
  {
   "cell_type": "code",
   "execution_count": null,
   "metadata": {},
   "outputs": [],
   "source": [
    "merge_df.shape"
   ]
  },
  {
   "cell_type": "code",
   "execution_count": null,
   "metadata": {},
   "outputs": [],
   "source": [
    "merge_df = merge_df[['id', 'tagging']]"
   ]
  },
  {
   "cell_type": "code",
   "execution_count": null,
   "metadata": {},
   "outputs": [],
   "source": [
    "merge_df.to_csv(os.path.join(output_path, 'result/prediction_kyle_mobile_19_march.csv'), index=False)"
   ]
  },
  {
   "cell_type": "code",
   "execution_count": null,
   "metadata": {},
   "outputs": [],
   "source": [
    "merge_df"
   ]
  },
  {
   "cell_type": "code",
   "execution_count": null,
   "metadata": {},
   "outputs": [],
   "source": []
  }
 ],
 "metadata": {
  "kernelspec": {
   "display_name": "shopee_data_science",
   "language": "python",
   "name": "shopee_data_science"
  },
  "language_info": {
   "codemirror_mode": {
    "name": "ipython",
    "version": 3
   },
   "file_extension": ".py",
   "mimetype": "text/x-python",
   "name": "python",
   "nbconvert_exporter": "python",
   "pygments_lexer": "ipython3",
   "version": "3.7.2"
  }
 },
 "nbformat": 4,
 "nbformat_minor": 2
}
