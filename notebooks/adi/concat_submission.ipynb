{
 "cells": [
  {
   "cell_type": "code",
   "execution_count": null,
   "metadata": {},
   "outputs": [],
   "source": [
    "%load_ext autoreload\n",
    "%autoreload 2"
   ]
  },
  {
   "cell_type": "code",
   "execution_count": null,
   "metadata": {},
   "outputs": [],
   "source": [
    "%cd /home/adityasidharta/git/shopee_data_science\n",
    "%env PROJECT_PATH /home/adityasidharta/git/shopee_data_science"
   ]
  },
  {
   "cell_type": "code",
   "execution_count": null,
   "metadata": {},
   "outputs": [],
   "source": [
    "from sklearn.externals import joblib\n",
    "import pandas as pd\n",
    "from utils.envs import *\n",
    "from model.text.common.prediction import *\n",
    "from utils.common import get_datetime"
   ]
  },
  {
   "cell_type": "code",
   "execution_count": null,
   "metadata": {},
   "outputs": [],
   "source": [
    "lgb_beauty_result_path = '/home/adityasidharta/git/shopee_data_science/output/result/lgb-3/beauty_result_dict.pkl'\n",
    "lgb_fashion_result_path = '/home/adityasidharta/git/shopee_data_science/output/result/lgb-3/fashion_result_dict.pkl'\n",
    "lgb_mobile_result_path = '/home/adityasidharta/git/shopee_data_science/output/result/lgb-3/mobile_result_dict.pkl'"
   ]
  },
  {
   "cell_type": "code",
   "execution_count": null,
   "metadata": {},
   "outputs": [],
   "source": [
    "fastai_beauty_result_path = '/home/adityasidharta/git/shopee_data_science/output/result/fastai_20190314-001431/beauty_result_dict.pkl'\n",
    "fastai_fashion_result_path = '/home/adityasidharta/git/shopee_data_science/output/result/fastai_20190314-001431/fashion_result_dict.pkl'\n",
    "fastai_mobile_result_path = '/home/adityasidharta/git/shopee_data_science/output/result/fastai_20190314-001431/mobile_result_dict.pkl'"
   ]
  },
  {
   "cell_type": "code",
   "execution_count": null,
   "metadata": {},
   "outputs": [],
   "source": [
    "image_beauty_result_path = '/home/adityasidharta/git/shopee_data_science/output/result/img_fastai_20190318-013530/beauty_result_dict.pkl'\n",
    "image_fashion_result_path = '/home/adityasidharta/git/shopee_data_science/output/result/img_fastai_20190318-013530/fashion_result_dict.pkl'\n",
    "image_mobile_result_path = '/home/adityasidharta/git/shopee_data_science/output/result/img_fastai_20190318-013530/mobile_result_dict.pkl'"
   ]
  },
  {
   "cell_type": "code",
   "execution_count": null,
   "metadata": {},
   "outputs": [],
   "source": [
    "lgb_beauty_result_dict = joblib.load(lgb_beauty_result_path)\n",
    "lgb_fashion_result_dict = joblib.load(lgb_fashion_result_path)\n",
    "lgb_mobile_result_dict = joblib.load(lgb_mobile_result_path)"
   ]
  },
  {
   "cell_type": "code",
   "execution_count": null,
   "metadata": {},
   "outputs": [],
   "source": [
    "fastai_beauty_result_dict = joblib.load(fastai_beauty_result_path)\n",
    "fastai_fashion_result_dict = joblib.load(fastai_fashion_result_path)\n",
    "fastai_mobile_result_dict = joblib.load(fastai_mobile_result_path)"
   ]
  },
  {
   "cell_type": "code",
   "execution_count": null,
   "metadata": {},
   "outputs": [],
   "source": [
    "image_beauty_result_dict = joblib.load(image_beauty_result_path)\n",
    "image_fashion_result_dict = joblib.load(image_fashion_result_path)\n",
    "image_mobile_result_dict = joblib.load(image_mobile_result_path)"
   ]
  },
  {
   "cell_type": "code",
   "execution_count": null,
   "metadata": {},
   "outputs": [],
   "source": [
    "concat_beauty_result_dict = concat_prediction_image(lgb_beauty_result_dict, fastai_beauty_result_dict, image_beauty_result_dict)\n",
    "concat_fashion_result_dict = concat_prediction_image(lgb_fashion_result_dict, fastai_fashion_result_dict, image_fashion_result_dict)\n",
    "concat_mobile_result_dict = concat_prediction_image(lgb_mobile_result_dict, fastai_mobile_result_dict, image_mobile_result_dict)"
   ]
  },
  {
   "cell_type": "code",
   "execution_count": null,
   "metadata": {},
   "outputs": [],
   "source": [
    "beauty_test_df = pd.read_csv(beauty_test_repo)\n",
    "fashion_test_df = pd.read_csv(fashion_test_repo)\n",
    "mobile_test_df = pd.read_csv(mobile_test_repo)"
   ]
  },
  {
   "cell_type": "code",
   "execution_count": null,
   "metadata": {},
   "outputs": [],
   "source": [
    "prediction_df = build_prediction_list(beauty_test_df, fashion_test_df, mobile_test_df)"
   ]
  },
  {
   "cell_type": "code",
   "execution_count": null,
   "metadata": {},
   "outputs": [],
   "source": [
    "#beauty_prediction = predict_single(beauty_test_df, beauty_result_dict)\n",
    "#fashion_prediction = predict_single(fashion_test_df, fashion_result_dict)\n",
    "#mobile_prediction = predict_single(mobile_test_df, mobile_result_dict)"
   ]
  },
  {
   "cell_type": "code",
   "execution_count": null,
   "metadata": {},
   "outputs": [],
   "source": [
    "beauty_prediction = predict_double(beauty_test_df, concat_beauty_result_dict)\n",
    "fashion_prediction = predict_double(fashion_test_df, concat_fashion_result_dict)\n",
    "mobile_prediction = predict_double(mobile_test_df, concat_mobile_result_dict)"
   ]
  },
  {
   "cell_type": "code",
   "execution_count": null,
   "metadata": {},
   "outputs": [],
   "source": [
    "#beauty_prediction = predict_threshold(beauty_test_df, beauty_result_dict, 0.8)\n",
    "#fashion_prediction = predict_threshold(fashion_test_df, fashion_result_dict, 0.8)\n",
    "#mobile_prediction = predict_threshold(mobile_test_df, mobile_result_dict, 0.8)"
   ]
  },
  {
   "cell_type": "code",
   "execution_count": null,
   "metadata": {},
   "outputs": [],
   "source": [
    "final_result_df = concat_submission(beauty_prediction, fashion_prediction, mobile_prediction, beauty_test_df, fashion_test_df, mobile_test_df)"
   ]
  },
  {
   "cell_type": "code",
   "execution_count": null,
   "metadata": {},
   "outputs": [],
   "source": [
    "final_result_df"
   ]
  },
  {
   "cell_type": "code",
   "execution_count": null,
   "metadata": {},
   "outputs": [],
   "source": [
    "final_result_df.to_csv(os.path.join(result_path, 'result_{}.csv'.format(get_datetime())), index=False)"
   ]
  },
  {
   "cell_type": "code",
   "execution_count": null,
   "metadata": {},
   "outputs": [],
   "source": [
    "df = pd.read_csv('/home/adityasidharta/git/shopee_data_science/output/result/result_20190314-225622.csv')"
   ]
  },
  {
   "cell_type": "code",
   "execution_count": null,
   "metadata": {},
   "outputs": [],
   "source": [
    "pd.testing.assert_frame_equal(final_result_df, df)"
   ]
  },
  {
   "cell_type": "code",
   "execution_count": null,
   "metadata": {},
   "outputs": [],
   "source": []
  }
 ],
 "metadata": {
  "kernelspec": {
   "display_name": "shopee_data_science",
   "language": "python",
   "name": "shopee_data_science"
  },
  "language_info": {
   "codemirror_mode": {
    "name": "ipython",
    "version": 3
   },
   "file_extension": ".py",
   "mimetype": "text/x-python",
   "name": "python",
   "nbconvert_exporter": "python",
   "pygments_lexer": "ipython3",
   "version": "3.7.2"
  }
 },
 "nbformat": 4,
 "nbformat_minor": 2
}
