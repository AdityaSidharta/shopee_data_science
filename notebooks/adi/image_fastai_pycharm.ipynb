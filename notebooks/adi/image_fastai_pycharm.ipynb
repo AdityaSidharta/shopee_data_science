{
 "cells": [
  {
   "cell_type": "code",
   "execution_count": null,
   "metadata": {},
   "outputs": [],
   "source": [
    "%load_ext autoreload\n",
    "%autoreload 2"
   ]
  },
  {
   "cell_type": "code",
   "execution_count": null,
   "metadata": {},
   "outputs": [],
   "source": [
    "%cd /home/adityasidharta/git/shopee_data_science\n",
    "%env PROJECT_PATH /home/adityasidharta/git/shopee_data_science"
   ]
  },
  {
   "cell_type": "code",
   "execution_count": null,
   "metadata": {},
   "outputs": [],
   "source": [
    "from tqdm import tqdm\n",
    "import argparse\n",
    "from sklearn.externals import joblib\n",
    "from fastai.vision import *\n",
    "\n",
    "from model.image.fastai.ml_model import fastai_prediction\n",
    "from model.common.topic import beauty_columns, mobile_columns, fashion_columns\n",
    "from utils.envs import *\n",
    "from utils.logger import logger\n",
    "from utils.common import get_datetime, create_directory"
   ]
  },
  {
   "cell_type": "code",
   "execution_count": null,
   "metadata": {},
   "outputs": [],
   "source": [
    "def fix_image_path(input_df, relative_path):\n",
    "    df = input_df.copy()\n",
    "    for idx in tqdm(range(len(input_df))):\n",
    "        filename = df.at[idx, 'image_path'].split('/')[1]\n",
    "        if not filename.endswith('.jpg'):\n",
    "            filename = filename + '.jpg'\n",
    "        final_filename = os.path.join(relative_path, filename)\n",
    "        df.at[idx, 'image_path'] = final_filename\n",
    "    return df\n"
   ]
  },
  {
   "cell_type": "code",
   "execution_count": null,
   "metadata": {},
   "outputs": [],
   "source": [
    "logger.setup_logger('img_fastai')\n",
    "datetime = get_datetime()\n",
    "model_path = os.path.join(result_path, 'img_fastai_{}').format(datetime)\n",
    "model_metadata_path = os.path.join(result_metadata_path, 'img_fastai_{}').format(datetime)"
   ]
  },
  {
   "cell_type": "code",
   "execution_count": null,
   "metadata": {},
   "outputs": [],
   "source": [
    "create_directory(model_path)\n",
    "create_directory(model_metadata_path)"
   ]
  },
  {
   "cell_type": "code",
   "execution_count": null,
   "metadata": {},
   "outputs": [],
   "source": [
    "path = Path(img_root)\n",
    "\n",
    "beauty_dev = pd.read_csv(beauty_dev_repo)\n",
    "beauty_val = pd.read_csv(beauty_val_repo)\n",
    "beauty_test = pd.read_csv(beauty_test_repo)\n",
    "\n",
    "fashion_dev = pd.read_csv(fashion_dev_repo)\n",
    "fashion_val = pd.read_csv(fashion_val_repo)\n",
    "fashion_test = pd.read_csv(fashion_test_repo)\n",
    "\n",
    "mobile_dev = pd.read_csv(mobile_dev_repo)\n",
    "mobile_val = pd.read_csv(mobile_val_repo)\n",
    "mobile_test = pd.read_csv(mobile_test_repo)\n",
    "\n",
    "beauty_dev = fix_image_path(beauty_dev, 'beauty_dev')\n",
    "beauty_val = fix_image_path(beauty_val, 'beauty_val')\n",
    "beauty_test = fix_image_path(beauty_test, 'beauty_test')\n",
    "\n",
    "fashion_dev = fix_image_path(fashion_dev, 'fashion_dev')\n",
    "fashion_val = fix_image_path(fashion_val, 'fashion_val')\n",
    "fashion_test = fix_image_path(fashion_test, 'fashion_test')\n",
    "\n",
    "mobile_dev = fix_image_path(mobile_dev, 'mobile_dev')\n",
    "mobile_val = fix_image_path(mobile_val, 'mobile_val')\n",
    "mobile_test = fix_image_path(mobile_test, 'mobile_test')"
   ]
  },
  {
   "cell_type": "code",
   "execution_count": null,
   "metadata": {},
   "outputs": [],
   "source": [
    "train_beauty = pd.concat([beauty_dev, beauty_val]).iloc[0:300, :]\n",
    "test_beauty = beauty_test\n",
    "test_beauty_folder = 'beauty_try'\n",
    "\n",
    "train_fashion = pd.concat([fashion_dev, fashion_val]).iloc[0:64, :]\n",
    "test_fashion = fashion_test\n",
    "test_fashion_folder = 'fashion_test'\n",
    "\n",
    "train_mobile = pd.concat([mobile_dev, mobile_val]).iloc[0:64, :]\n",
    "test_mobile = mobile_test\n",
    "test_mobile_folder = 'mobile_test'"
   ]
  },
  {
   "cell_type": "code",
   "execution_count": null,
   "metadata": {},
   "outputs": [],
   "source": [
    "train_beauty"
   ]
  },
  {
   "cell_type": "code",
   "execution_count": null,
   "metadata": {},
   "outputs": [],
   "source": [
    "beauty_result_dict = fastai_prediction(train_beauty, test_beauty, test_beauty_folder, ['Brand', 'Benefits'], path, 'beauty')"
   ]
  }
 ],
 "metadata": {
  "kernelspec": {
   "display_name": "shopee_data_science",
   "language": "python",
   "name": "shopee_data_science"
  },
  "language_info": {
   "codemirror_mode": {
    "name": "ipython",
    "version": 3
   },
   "file_extension": ".py",
   "mimetype": "text/x-python",
   "name": "python",
   "nbconvert_exporter": "python",
   "pygments_lexer": "ipython3",
   "version": "3.7.2"
  }
 },
 "nbformat": 4,
 "nbformat_minor": 2
}
