{
 "cells": [
  {
   "cell_type": "code",
   "execution_count": null,
   "metadata": {},
   "outputs": [],
   "source": [
    "%cd /home/adityasidharta/git/shopee_data_science\n",
    "%env PROJECT_PATH /home/adityasidharta/git/shopee_data_science"
   ]
  },
  {
   "cell_type": "code",
   "execution_count": null,
   "metadata": {},
   "outputs": [],
   "source": [
    "from utils.envs import *\n",
    "import pandas as pd\n",
    "import numpy as np\n",
    "from sklearn.feature_extraction.text import TfidfVectorizer\n",
    "from sklearn.decomposition import TruncatedSVD\n",
    "from category_encoders import OrdinalEncoder\n",
    "from sklearn.model_selection import train_test_split\n",
    "import xgboost as xgb\n",
    "import lightgbm as lgb\n",
    "from sklearn.externals import joblib\n",
    "import datetime\n",
    "import string"
   ]
  },
  {
   "cell_type": "code",
   "execution_count": null,
   "metadata": {},
   "outputs": [],
   "source": [
    "beauty_train = pd.read_csv(beauty_train_repo)\n",
    "beauty_val = pd.read_csv(beauty_val_repo)\n",
    "\n",
    "fashion_train = pd.read_csv(fashion_train_repo)\n",
    "fashion_val = pd.read_csv(fashion_val_repo)\n",
    "\n",
    "mobile_train = pd.read_csv(mobile_train_repo)\n",
    "mobile_val = pd.read_csv(mobile_val_repo)"
   ]
  },
  {
   "cell_type": "code",
   "execution_count": null,
   "metadata": {},
   "outputs": [],
   "source": [
    "print(beauty_train.columns)\n",
    "print(fashion_train.columns)\n",
    "print(mobile_train.columns)"
   ]
  },
  {
   "cell_type": "code",
   "execution_count": null,
   "metadata": {},
   "outputs": [],
   "source": [
    "print(beauty_val.columns)\n",
    "print(fashion_val.columns)\n",
    "print(mobile_val.columns)"
   ]
  },
  {
   "cell_type": "code",
   "execution_count": null,
   "metadata": {},
   "outputs": [],
   "source": [
    "def write_log(text):\n",
    "    with open(os.path.join(result_path, 'eta_log.txt'), 'a+') as f:\n",
    "        f.write('{}_{}\\n'.format(datetime.datetime.now().strftime(\"%Y%m%d-%H%M%S\"), text))"
   ]
  },
  {
   "cell_type": "code",
   "execution_count": null,
   "metadata": {},
   "outputs": [],
   "source": [
    "def text_process(s):\n",
    "    s = str(s)\n",
    "    s.translate(str.maketrans('','',string.punctuation))\n",
    "    s = s.lower()\n",
    "    return s"
   ]
  },
  {
   "cell_type": "code",
   "execution_count": null,
   "metadata": {},
   "outputs": [],
   "source": [
    "def create_label(df, test_df, topic):\n",
    "    result_dict = {}\n",
    "    feature_df = df[['title']].copy()\n",
    "    label_df = df.drop(columns=['itemid', 'title', 'image_path']).copy()\n",
    "    \n",
    "    feature_df['title'] = feature_df['title'].apply(lambda x: text_process(x))\n",
    "    feature_array = feature_df['title'].values.tolist()\n",
    "    feature_encoder = TfidfVectorizer()\n",
    "    feature_encoder.fit(feature_array)\n",
    "    feature_attr = feature_encoder.transform(feature_array)\n",
    "    feature_decomposer = TruncatedSVD(5)\n",
    "    feature_decomposer.fit(feature_attr)\n",
    "    feature_attr = feature_decomposer.transform(feature_attr)\n",
    "    \n",
    "    test_df['title'] = test_df['title'].apply(lambda x: text_process(x))\n",
    "    test_array = test_df['title'].values.tolist()\n",
    "    test_attr = feature_encoder.transform(test_array)\n",
    "    test_attr = feature_decomposer.transform(test_attr)\n",
    "    \n",
    "    train_itemid = df['itemid']\n",
    "    test_itemid = test_df['itemid']\n",
    "    \n",
    "    result_dict['itemid_train_{}'.format(topic)] = train_itemid\n",
    "    result_dict['itemid_test_{}'.format(topic)] = test_itemid\n",
    "    result_dict['X_train_{}'.format(topic)] = feature_attr\n",
    "    result_dict['X_encoder_{}'.format(topic)] = feature_encoder\n",
    "    result_dict['X_decomposer_{}'.format(topic)] = feature_decomposer\n",
    "    result_dict['X_test_{}'.format(topic)] = test_attr\n",
    "    \n",
    "    for column in label_df.columns:\n",
    "\n",
    "        label_encoder = OrdinalEncoder(cols=[column], handle_unknown='impute')\n",
    "        label_encoder.fit(label_df[[column]])\n",
    "        label_attr = label_encoder.transform(label_df[[column]])\n",
    "\n",
    "        result_dict['Y_train_{}_{}'.format(topic, column)] = label_attr\n",
    "        result_dict['Y_encoder_{}_{}'.format(topic, column)] = label_encoder\n",
    "        result_dict['Y_colname_{}_{}'.format(topic, column)] = label_attr.columns\n",
    "        \n",
    "    return result_dict"
   ]
  },
  {
   "cell_type": "code",
   "execution_count": null,
   "metadata": {},
   "outputs": [],
   "source": [
    "beauty_dict = create_label(beauty_train, beauty_val, 'beauty')\n",
    "fashion_dict = create_label(fashion_train, fashion_val, 'fashion')\n",
    "mobile_dict = create_label(mobile_train, mobile_val, 'mobile')"
   ]
  },
  {
   "cell_type": "code",
   "execution_count": null,
   "metadata": {},
   "outputs": [],
   "source": [
    "topic = 'mobile'\n",
    "column = 'Camera'\n",
    "\n",
    "X_train = mobile_dict['X_train_{}'.format(topic)]\n",
    "Y_train = mobile_dict['Y_train_{}_{}'.format(topic, column)][column].values\n",
    "\n",
    "train_idx = Y_train != 0\n",
    "X_train = X_train[train_idx]\n",
    "Y_train = Y_train[train_idx]\n",
    "\n",
    "X_dev, X_val, Y_dev, Y_val = train_test_split(X_train, Y_train, test_size = 0.2)\n",
    "\n",
    "X_test = mobile_dict['X_test_{}'.format(topic)]\n",
    "\n",
    "dtrain = lgb.Dataset(X_train, label=Y_train)\n",
    "ddev = lgb.Dataset(X_dev, label=Y_dev)\n",
    "dval = lgb.Dataset(X_val, label=Y_val)\n",
    "dtest = lgb.Dataset(X_test)\n",
    "\n",
    "params = {'objective': 'multiclass',\n",
    "         'eta': 0.01,\n",
    "         'max_depth': 6,\n",
    "         \"feature_fraction\":0.7,\n",
    "         \"bagging_fraction\":0.7,\n",
    "         \"num_leaves\": 63,\n",
    "         'nthread': 6,\n",
    "         'metric': ['multi_logloss', 'multi_error'],\n",
    "         'num_class': Y_train.max() + 1}\n",
    "\n",
    "bst = lgb.train(params, ddev, num_boost_round=5, valid_sets=[ddev, dval], valid_names=['ddev','dval'], early_stopping_rounds=50)"
   ]
  },
  {
   "cell_type": "code",
   "execution_count": null,
   "metadata": {},
   "outputs": [],
   "source": [
    "Y_pred = bst.predict(X_test)\n",
    "Y_class = Y_pred.argmax(1)\n",
    "Y_class_df = pd.DataFrame(Y_class, columns = mobile_dict['Y_colname_mobile_Camera'])\n",
    "Y_class_result = mobile_dict['Y_encoder_mobile_Camera'].inverse_transform(Y_class_df)\n",
    "result = pd.DataFrame({\n",
    "    'id': beauty_dict['itemid_test_beauty'].apply(lambda x : str(x) + '_Colour_group'),\n",
    "    'tagging': Y_class_result['Colour_group'].values\n",
    "})"
   ]
  },
  {
   "cell_type": "code",
   "execution_count": null,
   "metadata": {},
   "outputs": [],
   "source": [
    "def create_prediction(topic_dict, topic, column_list):\n",
    "    result_dict = {}\n",
    "    for column in column_list:\n",
    "        print('######################################################')\n",
    "        print(column)\n",
    "        print('######################################################')\n",
    "        X_train = topic_dict['X_train_{}'.format(topic)]\n",
    "        Y_train = topic_dict['Y_train_{}_{}'.format(topic, column)][column].values\n",
    "        \n",
    "        train_idx = Y_train != 0\n",
    "        X_train = X_train[train_idx]\n",
    "        Y_train = Y_train[train_idx]\n",
    "        \n",
    "        X_dev, X_val, Y_dev, Y_val = train_test_split(X_train, Y_train, test_size = 0.1)\n",
    "        \n",
    "        X_test = topic_dict['X_test_{}'.format(topic)]\n",
    "        \n",
    "        ddev = lgb.Dataset(X_dev, label=Y_dev)\n",
    "        dval = lgb.Dataset(X_val, label=Y_val)\n",
    "\n",
    "        params = {'objective': 'multiclass',\n",
    "                  'eta': 0.01,\n",
    "                  'max_depth': 6,\n",
    "                  'num_leaves': 63,\n",
    "                  \"feature_fraction\":0.7,\n",
    "                  \"bagging_fraction\":0.7,\n",
    "                  'silent': 1,\n",
    "                  'nthread': 6,\n",
    "                  'num_class': Y_train.max() + 1}\n",
    "\n",
    "        bst = lgb.train(params, ddev, num_boost_round=2000, valid_sets=[ddev, dval], valid_names=['ddev','dval'], early_stopping_rounds=50)\n",
    "        Y_pred = bst.predict(X_test)\n",
    "        result_dict['Y_pred_{}_{}'.format(topic, column)] = Y_pred\n",
    "        \n",
    "#        Y_class = Y_pred.argmax(1)\n",
    "#        Y_class_df = pd.DataFrame(Y_class, columns = topic_dict['Y_colname_{}_{}'.format(topic, column)])\n",
    "#        Y_class_result = topic_dict['Y_encoder_{}_{}'.format(topic, column)].inverse_transform(Y_class_df)\n",
    "#        result = pd.DataFrame({\n",
    "#            'id': topic_dict['itemid_test_{}'.format(topic)].apply(lambda x : str(x) + '_{}'.format(column)),\n",
    "#            'tagging': Y_class_result[column].values.astype(int).astype(str)\n",
    "#        })\n",
    "#        result_dict['result_df_{}_{}'.format(topic, column)] = result\n",
    "    return result_dict\n",
    "        "
   ]
  },
  {
   "cell_type": "code",
   "execution_count": null,
   "metadata": {},
   "outputs": [],
   "source": [
    "beauty_result_dict = create_prediction(beauty_dict, 'beauty', ['Colour_group', 'Brand', 'Benefits',\n",
    "       'Product_texture', 'Skin_type'])\n",
    "joblib.dump(beauty_result_dict, os.path.join(result_path, 'beauty_result_dict_NEW.pkl'))\n",
    "\n",
    "fashion_result_dict = create_prediction(fashion_dict, 'fashion', ['Pattern', 'Collar Type', 'Sleeves', 'Fashion Trend',\n",
    "       'Clothing Material'])\n",
    "joblib.dump(fashion_result_dict, os.path.join(result_path, 'fashion_result_dict_NEW.pkl'))\n",
    "\n",
    "mobile_result_dict = create_prediction(mobile_dict, 'mobile', ['Operating System', 'Features',\n",
    "       'Network Connections', 'Memory RAM', 'Brand', 'Warranty Period',\n",
    "       'Storage Capacity', 'Color Family', 'Phone Model', 'Camera',\n",
    "       'Phone Screen Size'])\n",
    "joblib.dump(mobile_result_dict, os.path.join(result_path, 'mobile_result_dict_NEW.pkl'))"
   ]
  },
  {
   "cell_type": "code",
   "execution_count": null,
   "metadata": {},
   "outputs": [],
   "source": [
    "#beauty_result = pd.concat([beauty_result_dict[x] for x in beauty_result_dict.keys()])\n",
    "#fashion_result = pd.concat([fashion_result_dict[x] for x in fashion_result_dict.keys()])\n",
    "#mobile_result = pd.concat([mobile_result_dict[x] for x in mobile_result_dict.keys()])"
   ]
  },
  {
   "cell_type": "code",
   "execution_count": null,
   "metadata": {},
   "outputs": [],
   "source": [
    "#beauty_result.loc[beauty_result['tagging'] == '0', 'tagging'] = ''\n",
    "#fashion_result.loc[fashion_result['tagging'] == '0', 'tagging'] = ''\n",
    "#mobile_result.loc[mobile_result['tagging'] == '0', 'tagging'] = ''"
   ]
  },
  {
   "cell_type": "code",
   "execution_count": null,
   "metadata": {},
   "outputs": [],
   "source": [
    "#beauty_result.to_csv(os.path.join(result_path, 'beauty_result.csv'), index=False)\n",
    "#fashion_result.to_csv(os.path.join(result_path, 'fashion_result.csv'), index=False)\n",
    "#mobile_result.to_csv(os.path.join(result_path, 'mobile_result.csv'), index=False)"
   ]
  },
  {
   "cell_type": "code",
   "execution_count": null,
   "metadata": {},
   "outputs": [],
   "source": []
  }
 ],
 "metadata": {
  "kernelspec": {
   "display_name": "shopee_data_science",
   "language": "python",
   "name": "shopee_data_science"
  },
  "language_info": {
   "codemirror_mode": {
    "name": "ipython",
    "version": 3
   },
   "file_extension": ".py",
   "mimetype": "text/x-python",
   "name": "python",
   "nbconvert_exporter": "python",
   "pygments_lexer": "ipython3",
   "version": "3.7.2"
  }
 },
 "nbformat": 4,
 "nbformat_minor": 2
}
