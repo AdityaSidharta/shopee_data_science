{
 "cells": [
  {
   "cell_type": "code",
   "execution_count": null,
   "metadata": {},
   "outputs": [],
   "source": [
    "%load_ext autoreload\n",
    "%autoreload 2"
   ]
  },
  {
   "cell_type": "code",
   "execution_count": null,
   "metadata": {},
   "outputs": [],
   "source": [
    "%cd /home/adityasidharta/git/shopee_data_science\n",
    "%env PROJECT_PATH /home/adityasidharta/git/shopee_data_science"
   ]
  },
  {
   "cell_type": "code",
   "execution_count": null,
   "metadata": {},
   "outputs": [],
   "source": [
    "from utils.envs import *\n",
    "from model.heuristic.mobile.extractor import *\n",
    "import pandas as pd\n",
    "from model.heuristic.mobile.enricher import *"
   ]
  },
  {
   "cell_type": "code",
   "execution_count": null,
   "metadata": {},
   "outputs": [],
   "source": [
    "import json\n",
    "\n",
    "def load_json(path):\n",
    "    with open(path, 'r') as f:\n",
    "        return json.load(f)"
   ]
  },
  {
   "cell_type": "code",
   "execution_count": null,
   "metadata": {},
   "outputs": [],
   "source": [
    "Ext = Extractor()\n",
    "Enr = Enricher()"
   ]
  },
  {
   "cell_type": "code",
   "execution_count": null,
   "metadata": {},
   "outputs": [],
   "source": [
    "train_df = pd.read_csv(mobile_train_repo)\n",
    "mobile_json = load_json(mobile_profile_json)"
   ]
  },
  {
   "cell_type": "code",
   "execution_count": null,
   "metadata": {},
   "outputs": [],
   "source": [
    "invert_mobile_json = {}\n",
    "for column in mobile_json.keys():\n",
    "    invert_mobile_json[column] = {float(k):v for v, k in mobile_json[column].items()}"
   ]
  },
  {
   "cell_type": "code",
   "execution_count": null,
   "metadata": {},
   "outputs": [],
   "source": [
    "train_df.head()"
   ]
  },
  {
   "cell_type": "code",
   "execution_count": null,
   "metadata": {},
   "outputs": [],
   "source": [
    "for column in mobile_json.keys():\n",
    "    train_df[column] = train_df[column].replace(invert_mobile_json[column])"
   ]
  },
  {
   "cell_type": "code",
   "execution_count": null,
   "metadata": {},
   "outputs": [],
   "source": [
    "train_df.head()"
   ]
  },
  {
   "cell_type": "code",
   "execution_count": null,
   "metadata": {},
   "outputs": [],
   "source": [
    "extracted = Ext.extract_from_title(train_df.at[0, 'title'])\n",
    "enriched = Enr.enrich(extracted)"
   ]
  },
  {
   "cell_type": "code",
   "execution_count": null,
   "metadata": {},
   "outputs": [],
   "source": [
    "from tqdm import tqdm"
   ]
  },
  {
   "cell_type": "code",
   "execution_count": null,
   "metadata": {},
   "outputs": [],
   "source": [
    "result_list = []\n",
    "for idx in tqdm(range(len(train_df))):\n",
    "    extracted = Ext.extract_from_title(train_df.at[idx, 'title'])\n",
    "    enriched = Enr.enrich(extracted)\n",
    "    result_dict = {'itemid': train_df.at[idx, 'itemid']}\n",
    "    for column in mobile_json.keys():\n",
    "        value = enriched[column]\n",
    "        if isinstance(value, list):\n",
    "            if len(value) == 1:\n",
    "                result_dict[column] = value[0]\n",
    "            else:\n",
    "                result_dict[column] = ''\n",
    "        else:\n",
    "            result_dict[column] = value\n",
    "    result_list.append(result_dict)\n",
    "kyle_df = pd.DataFrame(result_list)"
   ]
  },
  {
   "cell_type": "code",
   "execution_count": null,
   "metadata": {},
   "outputs": [],
   "source": [
    "kyle_column = kyle_df.columns\n",
    "kyle_column = ['Predict_' + x if x in mobile_json.keys() else x for x in kyle_df.columns]\n",
    "kyle_df.columns = kyle_column"
   ]
  },
  {
   "cell_type": "code",
   "execution_count": null,
   "metadata": {},
   "outputs": [],
   "source": [
    "merge_df = train_df.merge(kyle_df, on='itemid', how='left')"
   ]
  },
  {
   "cell_type": "code",
   "execution_count": null,
   "metadata": {},
   "outputs": [],
   "source": [
    "for column in mobile_json.keys():\n",
    "    input_df = merge_df.copy()\n",
    "    input_df = input_df[~pd.isnull(input_df[column])]\n",
    "    input_df = input_df[input_df['Predict_' + column] != '']\n",
    "    print(len(input_df))\n",
    "    print('{} : {}'.format(column, (input_df[column] == input_df['Predict_' + column]).sum() / len(input_df)))"
   ]
  },
  {
   "cell_type": "code",
   "execution_count": null,
   "metadata": {},
   "outputs": [],
   "source": []
  }
 ],
 "metadata": {
  "kernelspec": {
   "display_name": "Python 3",
   "language": "python",
   "name": "python3"
  },
  "language_info": {
   "codemirror_mode": {
    "name": "ipython",
    "version": 3
   },
   "file_extension": ".py",
   "mimetype": "text/x-python",
   "name": "python",
   "nbconvert_exporter": "python",
   "pygments_lexer": "ipython3",
   "version": "3.6.5"
  }
 },
 "nbformat": 4,
 "nbformat_minor": 2
}
